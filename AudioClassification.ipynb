{
 "cells": [
  {
   "cell_type": "code",
   "execution_count": 1,
   "metadata": {},
   "outputs": [
    {
     "name": "stderr",
     "output_type": "stream",
     "text": [
      "Using TensorFlow backend.\n"
     ]
    }
   ],
   "source": [
    "import keras\n",
    "from keras.layers import Activation, Dense, Dropout, Conv2D, \\\n",
    "                         Flatten, MaxPooling2D\n",
    "from keras.models import Sequential\n",
    "import librosa\n",
    "import librosa.display\n",
    "import numpy as np\n",
    "import pandas as pd\n",
    "import random\n",
    "\n",
    "import warnings\n",
    "warnings.filterwarnings('ignore')"
   ]
  },
  {
   "cell_type": "markdown",
   "metadata": {},
   "source": [
    "# Import Data"
   ]
  },
  {
   "cell_type": "code",
   "execution_count": 4,
   "metadata": {},
   "outputs": [
    {
     "data": {
      "text/html": [
       "<div>\n",
       "<style scoped>\n",
       "    .dataframe tbody tr th:only-of-type {\n",
       "        vertical-align: middle;\n",
       "    }\n",
       "\n",
       "    .dataframe tbody tr th {\n",
       "        vertical-align: top;\n",
       "    }\n",
       "\n",
       "    .dataframe thead th {\n",
       "        text-align: right;\n",
       "    }\n",
       "</style>\n",
       "<table border=\"1\" class=\"dataframe\">\n",
       "  <thead>\n",
       "    <tr style=\"text-align: right;\">\n",
       "      <th></th>\n",
       "      <th>fname</th>\n",
       "      <th>label</th>\n",
       "      <th>manually_verified</th>\n",
       "      <th>Duration</th>\n",
       "    </tr>\n",
       "  </thead>\n",
       "  <tbody>\n",
       "    <tr>\n",
       "      <td>0</td>\n",
       "      <td>00044347.wav</td>\n",
       "      <td>Hi-hat</td>\n",
       "      <td>0</td>\n",
       "      <td>14.00</td>\n",
       "    </tr>\n",
       "    <tr>\n",
       "      <td>1</td>\n",
       "      <td>001ca53d.wav</td>\n",
       "      <td>Saxophone</td>\n",
       "      <td>1</td>\n",
       "      <td>10.32</td>\n",
       "    </tr>\n",
       "    <tr>\n",
       "      <td>2</td>\n",
       "      <td>0033e230.wav</td>\n",
       "      <td>Glockenspiel</td>\n",
       "      <td>1</td>\n",
       "      <td>8.00</td>\n",
       "    </tr>\n",
       "    <tr>\n",
       "      <td>3</td>\n",
       "      <td>00353774.wav</td>\n",
       "      <td>Cello</td>\n",
       "      <td>1</td>\n",
       "      <td>4.52</td>\n",
       "    </tr>\n",
       "    <tr>\n",
       "      <td>4</td>\n",
       "      <td>003b91e8.wav</td>\n",
       "      <td>Cello</td>\n",
       "      <td>0</td>\n",
       "      <td>13.28</td>\n",
       "    </tr>\n",
       "  </tbody>\n",
       "</table>\n",
       "</div>"
      ],
      "text/plain": [
       "          fname         label  manually_verified  Duration\n",
       "0  00044347.wav        Hi-hat                  0     14.00\n",
       "1  001ca53d.wav     Saxophone                  1     10.32\n",
       "2  0033e230.wav  Glockenspiel                  1      8.00\n",
       "3  00353774.wav         Cello                  1      4.52\n",
       "4  003b91e8.wav         Cello                  0     13.28"
      ]
     },
     "execution_count": 4,
     "metadata": {},
     "output_type": "execute_result"
    }
   ],
   "source": [
    "valid_data = pd.read_csv('valid_data')\n",
    "valid_data.head(5)"
   ]
  },
  {
   "cell_type": "code",
   "execution_count": 5,
   "metadata": {},
   "outputs": [
    {
     "data": {
      "text/plain": [
       "(5580, 4)"
      ]
     },
     "execution_count": 5,
     "metadata": {},
     "output_type": "execute_result"
    }
   ],
   "source": [
    "valid_data.shape"
   ]
  },
  {
   "cell_type": "code",
   "execution_count": 9,
   "metadata": {},
   "outputs": [
    {
     "data": {
      "text/plain": [
<<<<<<< HEAD
       "<matplotlib.axes._subplots.AxesSubplot at 0x15020bed0>"
=======
       "<matplotlib.axes._subplots.AxesSubplot at 0x14090af50>"
>>>>>>> 0d83afe6b82b2ef8ff42870f9d232371bb92b1d9
      ]
     },
     "execution_count": 9,
     "metadata": {},
     "output_type": "execute_result"
    },
    {
     "data": {
      "image/png": "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\n",
      "text/plain": [
       "<Figure size 432x288 with 1 Axes>"
      ]
     },
     "metadata": {
      "needs_background": "light"
     },
     "output_type": "display_data"
    }
   ],
   "source": [
    "valid_data['Duration'].hist(bins = 27)\n"
   ]
  },
  {
   "cell_type": "markdown",
   "metadata": {},
   "source": [
    "# Change duration for spectrogram"
   ]
  },
  {
   "cell_type": "code",
   "execution_count": 11,
   "metadata": {},
   "outputs": [
    {
     "data": {
      "text/plain": [
       "(128, 128)"
      ]
     },
     "execution_count": 11,
     "metadata": {},
     "output_type": "execute_result"
    }
   ],
   "source": [
    "# Example of a Hi Hat spectrogram\n",
    "y, sr = librosa.load('freesound-audio-tagging/audio_train/00044347.wav', duration=2.97)\n",
    "ps = librosa.feature.melspectrogram(y=y, sr=sr)\n",
    "ps.shape"
   ]
  },
  {
   "cell_type": "code",
   "execution_count": 12,
   "metadata": {
    "scrolled": true
   },
   "outputs": [
    {
     "data": {
      "text/plain": [
<<<<<<< HEAD
       "<matplotlib.axes._subplots.AxesSubplot at 0x150fcf290>"
=======
       "<matplotlib.axes._subplots.AxesSubplot at 0x141e21f90>"
>>>>>>> 0d83afe6b82b2ef8ff42870f9d232371bb92b1d9
      ]
     },
     "execution_count": 12,
     "metadata": {},
     "output_type": "execute_result"
    },
    {
     "data": {
      "image/png": "iVBORw0KGgoAAAANSUhEUgAAAYsAAAEGCAYAAACUzrmNAAAABHNCSVQICAgIfAhkiAAAAAlwSFlzAAALEgAACxIB0t1+/AAAADh0RVh0U29mdHdhcmUAbWF0cGxvdGxpYiB2ZXJzaW9uMy4xLjEsIGh0dHA6Ly9tYXRwbG90bGliLm9yZy8QZhcZAAAdTklEQVR4nO3dfbAkV3nf8e/v3rt6F2GRBJZ3BSsbuUqyIkKyKICCJWTssjFBgCAlG2SRyLXlBCSRMmVeqmJikiogpjDEldheS3JEmUKhJBmwMRayLFtlE4N2tRJ6WV4NkXe1YXmRtbva15l58sd09/Tc6Zkzc2fmzp2+v8/WrZ3p19N7pX76OafPOYoIzMzMBlmYdQHMzGztc7AwM7MkBwszM0tysDAzsyQHCzMzS1qadQGmRZJf8zIzG833I+KcqhW1DRZtNb88M7OJavzffmtcDWVmZknr5tFbaKz9A9dqmdn65czCzMySapxZyNmEmdmE1DhYDKBSEBkwNlY52DhwmNl65mooMzNLqnFmEV3ZwLhVUmZm61mNg8Uy6hMs+i2HriqqYYPNJKur8nO6CszMZs3VUGZmllT7zKI6I1gYuL7zJN9MHHyxd1k0hi+cmdmcqH2wyG/83SNFdYJA5NVQFW9FJat/phAY/AaWma1FroYyM7OkqQYLSf9R0mOSHpX0SUmnSHq7pG9KCklnl7bdKOmPJX1F0pclXZwtP0/SfZJ2Z8e6acizIy1kXfPUbsiu+ono29dCpT+p9dJC1/n6/TEzm0dTCxaSNgE3Alsj4mJgEbgG+FvgVcDy0Q3fCzwUEZcAvwx8LFveAH4tIi4EXgq8TdJF0yq3mZn1mnabxRJwqqQTwGnAkxGxC0C9r6xeBHwAICK+KmmLpOdFxD5gX7b8oKTdwCbg8eTZ+2YMnYbpUKIRu9gnkRVk5xq3ncHtFGa2Fk0ts4iIvcCHgSdo3+yfjogvDNjlYeANAJIuBV4AbC5vIGkL8GLgS1UHkLRN0g5JO/JOefmforopglacKH4iWpP5WdYJsKdsrpIyszk2zWqojcBVwPnAjwKnS3rLgF0+CGyU9BBwA7CLdhVUfrwzgDuBd0TEgaoDRMT2iNgaEVsndBlmZsZ0q6FeBXw7Ir4HIOku4OXAH1VtnAWAf5ttK+Db2Q+SNtAOFJ+IiLuGO/2yp/dStVe5GgpaeQFKm/b+s0RVn4vSPqnqI1cvmdk8m+bbUE8AL5V0Wnbz/2lgd7+NJT1b0knZ118B7o+IA9m+twC7I+Ijw59+cLXQwD2j0f6hWfws2wBiWTWXmVmNTbPN4kvAHcCDwCPZubZLulHSHtrtEV+RdHO2y4XAY5K+Cvw8kL8iexlwLXClpIeyn1dPq9xmZtZLMWA+h3kmKdZBB3Uzswlq7OzX5rtu7qbTmDXPQ3OY2Xrh4T7MzCzJwWJC3HfCzOps3VRD9VOMSjtwqPJuo2xrZlYHzizMzCxp/WQWfaZPraw6Srwh5izCzNYbZxZmZpZU+8yiyBzK2UJXlpHHy1axxJmDmVm32geLyv4RUV7fOzVqqgF7tRq48/M4eJnZrLkayszMkmqfWeQGTY06zv6TVnUe9xQ3s1mrfbAobrR93oaqmuEuFRimecN2MDCztcjVUGZmllTjzEJIC+TxsHsipNJlK5/8qDxnRSvbpzRJkjpxVdFeH1FqHK/KXEaYHMnMbC2rcbCgfbNWfmMv36zLgaH31dmiakrNnmU921auzxY5QJhZTbgayszMkmqcWWTTnUb/gQLbm2XZgyrm6+6bjVSfbRKq3nzqV3ZnLma2WmocLAaoGvtpjcwYWBUAHBTMbNZcDWVmZkk1zizab0NJGwBYWvwnxZqFhc5lbzz1fACONQ8Uy46eeBqARvNwsazZOtI5cnbMVmlZ522q3obycfXtA1JRXTZsFlJ5nK6T+k0uM+twZmFmZkk1ziyACCJrmG40n+4sb3Zi5P7GoWzTY6Xdqhqzy6/LHqlY3znnNHVlGdG7bCXHWSvtNWa2dtU7WEjkN/lolQKAOp3tiiDRNYR5qTNelRUMEVLsOsEqHVcPmdlqcTWUmZkl1TuzAIrhPkqNuAuLpxefI/LqpU7msbhwKgCN5jOdw5SG9sh7divxYC9V/fM2S+tPLi3Pe5r3VoF1973o16s8X5/oVzKscqP3GJlU9yE7/x6dY5Wr90rPLkX/l3KWN1zP+Vlwlmd1V+NgEUS0EPnQHZ2bTrN5qLRdfgPq3Kjyt5w6gaRaaujwiBMD92nFkZ7l1f0shj/nMOuGMoV5yKv+PbpVBYPeyanMbPW5GsrMzJJqnFm0FdUy5eqdyn4Fg6t/ulcsVqzvrf6JxBAhXfvnw5JooWeZmdms1T5YDK2ijr6/vLok8dZUUikw5HM0lYONqgJQLN+FldTlu47dzEbhaigzM0uqfWbRmVZ1sXcZoIWTsk+d9a1WNsxHv6qr4u2g3sbXkZ7X1fsmUOUbR6p4S4hyo3hFzO+qQesdgsTzepvZKKYeLCQtAjuAvRHxGknnA7cDzwEeBK6NiOOSXgDcCpwD/BB4S0TsyY7xfOBm4Dza9+NXR8R3hjl/VZtF+dYYzUbXdl1lL99QS29GDXptdKQbb8WESt038Xyz6mP6Fm9mq2U1qqFuAnaXvn8I+O2IuAB4Crg+W/5h4OMRcQnwfuADpX0+DvxWRFwIXArsn3qpzcysMNVgIWkz8Au0swLU7hl3JXBHtsltwOuyzxcB92af7wOuyva5CFiKiHsAIuJQRHSGgx1SJP6k9hn2WOOaxjHNzMY17WqojwK/DpyZfT8L+MeIoqfVHmBT9vlh4GrgY8DrgTMlnQX8BPCPku4Czgf+Anh3VHR1lrQN2FZ8R8lxnhYW2r2oW61jpaW9HfXoqsYaXGVVqep13bKVvCabGFp84OlWEITczmG2fk0ts5D0GmB/ROwsL67YNL/rvBO4XNIu4HJgL9CgHdBeka1/CfBjwFurzhkR2yNia0RsrT6VmZmtxDQzi8uA10p6NXAK8CzamcazJS1l2cVm4EmAiHgSeAOApDOAqyPiaUl7gF0R8ffZuk8DLwVuSZZAQhWZRXlMpqXF0wA4UR7aI098usYyKu1f1a+hUI6/fcY9Ko5T7lNR1SlwMTt3b0N49zFLy4acEGnssaPmRNV1OisyG93UMouIeE9EbI6ILcA1wF9GxJtpt0e8MdvsOuAzAJLOVqf78ntovxkF8ACwUdI52fcrgcenVW4zM+s1i34W7wJul/RfgV10MoQrgA9ICuB+4G0AEdGU9E7g3qyBfCfwB0OdKYLgRPG5WMzx4vPx5sHe/Sqezoc5V3vffllHq7ccVb3GVW4XaGarqo9ZDJI47uRHNbZertNs2tTvHf551w46k4uFQzdg96n+mcXkSGZmo2nsbLf59vJwH2ZmllT74T5y/Z7sh54sqOs11f6N1eWG6tTkSFVDiLhB1szWonUTLPpVCVUGiewmLm2oPlbe56LPECLLj5PtVHWgwfvks/z1e/tqwEx5XYdMBMJZBCMHRbP54mooMzNLWjeZRdeTbOItpDyjWMjm4l4un5Y1+SRc8eTfNblR1bblfbI3q/pmOMXkSqVBDquKlOg9nqwuK843uSd/ZxFm82XdBIuum1OiSiiiPfRH9xAgEypHYl7vZRt3lWeMk463v5mte66GMjOzpBpnFuo/HekK5rlerWqTqjKvxQZqM1tfahwsBgzvnRg3KZd8a2rZ2QbtP+wNfSUd+czMps3VUGZmllTjzKK/5NP7SsaGSpxnFvubmU2KMwszM0tal5lFsi1ghrPNTXs2OvecNrOVqHGwUP+g0DUhUrvfQ1X/h74d+fJhOMozuw456VDX8Ss76HWWqWJY8yqjDPHhwGBmK+FqKDMzS6pxZgFosTMaLL3TlrZlWULpKX9hoT3Vaj7lKkDkU63SyULK+zRb7QmVWq3DndNHxTkTo9dSNWhgvwEJ8wEPK7OI6uldi21XkAHl07y2v5T7qrQqjlNxHamBEyuurdKYU8Y6uzIbXb2DBS0iv2l23agqqo/K1T/ZjbBcNdVoPF18zgNP15hNxbYV82GXz991o+sEoCrJ9oWqsaeKfaqDYzIwVJ2zuLbyuYc7drINpl8V2xhvojkYmE2eq6HMzCyp5pkFXXNODLtds3kAgJZO7qyvGCIk4kTimCuoLqmqfikdJ5VtVA0RMlI2UXH+fFTaaUwTO+23v8xsMmocLGK4EV4HjEAbcWTks44yRMdI1TIjGuXGmxyRd8zjr8ZxzGy6XA1lZmZJNc4s2la7E5qflM2sjmofLAqp+bDNzKwvV0OZmVlS7TOLolrI2YSZ2Yo5szAzsyQHCzMzS3KwMDOzJAcLMzNLqn0Dd87zO5iZrVztg0URJNzPwsxsxaZWDSXpPEn3Sdot6TFJN2XLnyPpHknfyP7euGy/l0hqSnpjadl/y46xW9J/lwZNdmBmZpM2zTaLBvBrEXEh8FLgbZIuAt4N3BsRFwD3Zt8BkLQIfAi4u7Ts5cBlwCXAxcBLgMuHLURkf4jSj5mZjWRq1VARsQ/Yl30+KGk3sAm4Crgi2+w24K+Ad2XfbwDupB0QikMBpwAnAQI2AN8dthxV1VBdM77lkwSNMHNccRyVJ0za0LO+awjz/Pj9ZsrLhkivHAa8XyKVj47rdhczm7JVeRtK0hbgxcCXgOdlgSQPKM/NttkEvB74vfK+EfF/gPtoB559wN0RsbvPebZJ2iFpx3SuxMxsfZp6A7ekM2hnC++IiAMDmhs+CrwrIprlbSS9ELgQ2JwtukfST0XE/csPEBHbge3t/Rai79wS5YwgHw1EnafzxYWTs+N15sMoZwmdJ/7SP18+R7f6xN+K6VurN1sqfc4yoH7zchSXV56PYvBkT8NOwlSV4awkg/FbaGb1MNVgoXbdzJ3AJyLirmzxdyWdGxH7JJ0L7M+WbwVuzwLF2cCrJTWAC4C/i4hD2TE/T7sNpCdYdIvuG17X9NG9M9yVA0Or1Xtz7p5IKbsBRmcO7c4YVOWtemeBU8WsdmUq3ewjn8+7TxXZoJv8KDPQjbt+Wvua2doxzbehBNwC7I6Ij5RWfRa4Lvt8HfAZgIg4PyK2RMQW4A7gP0TEp4EngMslLWXB53KgshrKzMymY5qZxWXAtcAjkh7Klr0X+CDwKUnX0w4Eb0oc5w7gSuAR2s/tfx4RfzJOwcpZQv4Erqrqo8Tc12XDTrLU70m78viJN7cGPbX7id7MJklR01dJ220WS5VvEnW/DZUvLLcVtANHq3Wss75UPaSFUwBYWjyzWNZsPZPt02fe7sSbS3lbRfmtqrwcUa7uah3vfM6rnLoCXftzdzVUqWprmHnJ6RO8Em9yVb61lfrvK9VZsmJ9qipulPM4qJqVNXZGxNaqNR4byszMkmo83IfQwinFk3qUnvi7nybzRuTy03f+d/VTeH6sE62jfY5ZlGDg+u6DZv0suhq48wMlnp67nsjb+7fGfGKuLG9U/Lv1WT/sG1bJp/wxquJGOY6ZDTZUZiHpFSre4yyW/fPpFMnMzNaaYTOLu4EHJP2biMh7T98MrOGAEUQcq+7/UO5ZXVHHXygvqngC7npSzo+fes21FHMr2xWq9h/h6bposO+T1QzbEF+2ksEYx860zGxNGTZYfA34LeCvJF0fEV+EYVsWZ6kTICqH3gDyapuuW5d6q0iSEg3YRWN0uZqpqnqp4oa8ko5tk+w70Sn7cNuVOUCY1cOwwSIi4k8lfQ3435JuBf+fb2a2XgwbLAQQEd+Q9ArgD2mPArvGdZp5q/pWQL9e1P3X9TPstl3bDZm5TLIcq90b29mEWT2suJ+FpOdHxBMTLs/ESIpav+xlZjZx/ftZDLybSvodBlc33ThOsczMbD6kHr3LQ33/JvC+KZbFzMzWqKGroSTtiogXT7k8E+NqKDOzUU1muA+3VJqZrVM1fvRW+08+QGB5oiIqJjUqZ1jqHWiwqgNd1RtWI40qWzUw37iTFw3ZR8RvKZnZKFIN3AfpZBSnSTqQr6Ld9+JZ0yzceLLJj7Ie3JVDkPdVMflR15fhhx4ftL57QqZGz/phreR1XDOzUQwMFhFx5qD1Zma2PtS+GqqjOrOoHFl2lZ7OXRVkZvPC81mYmVlSjTOL6H5yL809ofKseImGaTMzq3Ww6K9rmlEHCTOzJFdDmZlZUo0zC/UfXdavl5qZjaTGwSJcxWRmNiGuhjIzsyQHCzMzS3KwMDOzJAcLMzNLcrAwM7OkGgeL5WNDzZbWWHnMzEZR42BhZmaTUvtg4Sd6M7Px1T5YmJnZ+KYWLCTdKmm/pEdLy54j6R5J38j+3pgtf7Okr2Q/X5T0omXHWpS0S9KfjliI4qf8ZxbCPcrNbI5NM7P4X8DPLVv2buDeiLgAuDf7DvBt4PKIuAT4L8D2ZfvdBOwevQily9Ni8VMVOFYSTGYdgMzMVsvUgkVE3A/8cNniq4Dbss+3Aa/Ltv1iRDyVLf87YHO+g6TNwC8AN0+rrGZmNthqDyT4vIjYBxAR+yQ9t2Kb64HPl75/FPh1IDkfuKRtwLb25w2cedqPc/qGswE4dHx/sd3R4z8oPjdbzwDQah0b7UoYfy6MvqPimpmtMWtq1FlJr6QdLP5V9v01wP6I2CnpitT+EbGdrAprcfHUiGhx4NheAI4c3Vs60dpo13eAMLN5sdp3ze9KOhcg+7t43Jd0Ce2qpqsiIn/0vwx4raTvALcDV0r6o9UtspmZrXaw+CxwXfb5OuAzAJKeD9wFXBsRX883joj3RMTmiNgCXAP8ZUS8ZZgTtVrHOHTkWxw++gSHjz5B0Oz8tI4XP63WsRVVQa0GJf6Yma2WqVVDSfokcAVwtqQ9wPuADwKfknQ98ATwpmzz3wDOAv6nJIBGRGydVtnMzGw0ippOMSopYCn5BO52AzOzXGNnvwf1tdHSa2Zma9qaehtqGqoyB9f3m5mNxpmFmZkl1T6zqMoi3E5hZjYaZxZmZpZU+8zCWYSZ2ficWZiZWZKDhZmZJTlYmJlZkoOFmZklOViYmVmSg4WZmSU5WJiZWZKDhZmZJTlYmJlZkoOFmZkl1ThYeOpRM7NJqXGwMDOzSal3sJCQMwwzs7HVO1iYmdlE1HiIciFtALXjoaJRrGnFiVkVysxsLjmzMDOzpBpnFgssLJzK4sIpABw/8f0Zl8fMbH45szAzs6QaZxZNms1DtJrPACx7I6rz2dOumpmlObMwM7OkGmcWQUSDPItYWDyttKp02ZVvRrUqDtfJQKqykSJzUZ8+Hdn+zmTMbB45szAzs6QaZxaLLC6eTkQ7S5A2FGsijvVuHs3Ox+zpf0U9v/tkIPmx5PYSM5tDzizMzCyptpmFEAs6mYXFkwBoNA931qkUI0PZX50nfkWxYWm73ixhpMygOFbn3Cq1jeQZ0ChWVA4zsxWYSWYh6TuSHpH0kKQd2bI3SXpMUkvS1tK2PyNpZ7b9TklXzqLMZmbr2Swzi1dGRLlb9aPAG4DfX7bd94F/HRFPSroYuBvYtEplNDMz1lA1VETsBtCyV08jYlfp62PAKZJOjspW6tJ+NGk0D7DIGQBsWDqjWHfs+P7i88LCyQAsLZxaLGs0DwJw8oZzStt1/qlONA53bQcQraPZeXurq7q1SusXO8dfzMvXaWhvtbJLLDW+lw18hTexXT+DGvVT1+bqMLP6mlUDdwBfyKqVto2w39XArn6BQtI2STvaVVu+cZmZTcqsMovLsmql5wL3SPpqRNw/aAdJPwl8CPjZfttExHZgO8C5p2yK6zf/Ko8/dRyAR/lasd3R0w4Unw83fgDAoWP/r3SudrZxonmoWLbQOql0ptayvwG1swRVdejrLmTno8pP6qOrauAuXvvtasQfPXCmsoR0BmVmdTKTzCIinsz+3g/8MXDpoO0lbc62++WI+Nb0S2hmZmWrnllIOh1YiIiD2eefBd4/YPtnA58D3hMRfzvseTY99zi/ecM/wA2/BMDvXtK51A/t/Zvi8+lL52Tn6cTNp575JgCt1pFiWYvO59zS4pnF57xN5MixfcWyKHf0K02+1FlYmpCp1P5RUMUQIolhRzqbjf4qbuqYk9zHzObLLDKL5wF/I+lh4MvA5yLizyW9XtIe4GXA5yTdnW3/duCFwH/KXrV9KKu+MjOzVaJYQX32PLjg9HPjYxf/O4622vHwc3s7mcWfHb63+Lxx4TwA9h5/uFjWzN5COnLsu8WyKA04mL9BdfKGs4pleae/ZjkbKX0uhh0ZYbiPysEJh8wsxpUqZ9X6lbRdOCsxW0saOyNia9UaD/dhZmZJtc0slhZPizNPfSGNLEtoto4X6443nio+Vw00mPd1iNI+Uer/UDzdq9NPQvnnUltBeZ+VtiFMmp/+zaw/ZxZmZjaGNdODexoWFpbYeNKPAnCi1RlI8HuHOplF3q4gjnZ2zNsIUu0DpbeZKt92WoOcJZjZSjizMDOzpNpmFq3WCQ4e2ctB9gLQbD1TWjdwWKk1075gZrZWOLMwM7Ok2mYWQYMTjR+OsL3r8s3M+nFmYWZmSQ4WZmaW5GBhZmZJDhZmZpbkYGFmZkkOFmZmluRgYWZmSQ4WZmaW5GBhZmZJDhZmZpbkYGFmZkkOFmZmluRgYWZmSQ4WZmaW5GBhZmZJDhZmZpbkYGFmZkkOFmZmluRgYWZmSQ4WZmaW5GBhZmZJDhZmZpbkYGFmZkkOFmZmljQ3wULSz0n6mqRvSnr3rMtjZraezEWwkLQI/A/g54GLgF+UdNFsS2Vmtn7MRbAALgW+GRF/HxHHgduBq2ZcJjOzdWNp1gUY0ibgH0rf9wD/cvlGkrYB27Kvx6Dx6CqUbVbOBr4/60JMUd2vD+p/jb6++fOCfivmJVioYln0LIjYDmwHkLQjIrZOu2Cz4uubf3W/Rl9fvcxLNdQe4LzS983AkzMqi5nZujMvweIB4AJJ50s6CbgG+OyMy2Rmtm7MRTVURDQkvR24G1gEbo2IxxK7bZ9+yWbK1zf/6n6Nvr4aUURP1b+ZmVmXeamGMjOzGXKwMDOzpNoFi7oNC5K6HklvlfQ9SQ9lP78yi3JOiqRbJe2XVIs+MqnrkXSFpKdLv7/fWO0yTpKk8yTdJ2m3pMck3TTrMo1jmOup2++wn1q1WWTDgnwd+Bnar9s+APxiRDw+04Kt0DDXI+mtwNaIePtMCjlhkn4KOAR8PCIunnV5xpW6HklXAO+MiNesdtmmQdK5wLkR8aCkM4GdwOvm+P/B5PXU7XfYT90yi7oNC1K360mKiPuBH866HJNSt+tJiYh9EfFg9vkgsJv2CAxzqW7XM466BYuqYUHm+Rc77PVcLekrku6QdF7FelvbXibpYUmfl/STsy7MpEjaArwY+NJsSzIZieup5e+wrG7BYqhhQebIMNfzJ8CWiLgE+AvgtqmXyibpQeAFEfEi4HeAT8+4PBMh6QzgTuAdEXFg1uUZV+J6avk7XK5uwaJuw4IkrycifhARx7KvfwD8i1Uqm01ARByIiEPZ5z8DNkg6e8bFGoukDbRvrJ+IiLtmXZ5xpa6njr/DKnULFnUbFiR5PVkDXO61tOtUbU5I+hFJyj5fSvv/yR/MtlQrl13LLcDuiPjIrMszrmGup26/w37mYriPYa1wWJA1q9/1SHo/sCMiPgvcKOm1QIN2Q+pbZ1bgCZD0SeAK4GxJe4D3RcQtsy3VylVdD7ABICJ+D3gj8O8lNYAjwDUx368oXgZcCzwi6aFs2XuzJ+55VHk9wPOhtr/DSrV6ddbMzKajbtVQZmY2BQ4WZmaW5GBhZmZJDhZmZpbkYGFmZkm1enXWbBYknQXcm339EaAJfC/7fjgiXj6TgplNkF+dNZsgSf8ZOBQRH551WcwmydVQZlMk6VD29xWS/lrSpyR9XdIHJb1Z0pclPSLpx7PtzpF0p6QHsp/LZnsFZm0OFmar50XATcA/pd0r+Cci4lLgZuCGbJuPAb8dES8Brs7Wmc2c2yzMVs8DEbEPQNK3gC9kyx8BXpl9fhVwUTbUEMCzJJ2ZzaVgNjMOFmar51jpc6v0vUXn/8UF4GURcWQ1C2aW4moos7XlC0AxRa6kfzbDspgVHCzM1pYbga3ZzIePA7866wKZgV+dNTOzITizMDOzJAcLMzNLcrAwM7MkBwszM0tysDAzsyQHCzMzS3KwMDOzpP8P0m8C04pY47QAAAAASUVORK5CYII=\n",
      "text/plain": [
       "<Figure size 432x288 with 1 Axes>"
      ]
     },
     "metadata": {
      "needs_background": "light"
     },
     "output_type": "display_data"
    }
   ],
   "source": [
    "librosa.display.specshow(ps, y_axis='mel', x_axis='time')"
   ]
  },
  {
   "cell_type": "code",
   "execution_count": 14,
   "metadata": {},
   "outputs": [
    {
     "data": {
      "text/plain": [
       "(128, 128)"
      ]
     },
     "execution_count": 14,
     "metadata": {},
     "output_type": "execute_result"
    }
   ],
   "source": [
    "# Example of a Saxophone spectrogram\n",
    "y, sr = librosa.load('freesound-audio-tagging/audio_train/001ca53d.wav', duration=2.97)\n",
    "ps = librosa.feature.melspectrogram(y=y, sr=sr)\n",
    "ps.shape"
   ]
  },
  {
   "cell_type": "code",
   "execution_count": 15,
   "metadata": {},
   "outputs": [
    {
     "data": {
      "text/plain": [
<<<<<<< HEAD
       "<matplotlib.axes._subplots.AxesSubplot at 0x15149ddd0>"
=======
       "<matplotlib.axes._subplots.AxesSubplot at 0x142696d10>"
>>>>>>> 0d83afe6b82b2ef8ff42870f9d232371bb92b1d9
      ]
     },
     "execution_count": 15,
     "metadata": {},
     "output_type": "execute_result"
    },
    {
     "data": {
      "image/png": "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\n",
      "text/plain": [
       "<Figure size 432x288 with 1 Axes>"
      ]
     },
     "metadata": {
      "needs_background": "light"
     },
     "output_type": "display_data"
    }
   ],
   "source": [
    "librosa.display.specshow(ps, y_axis='mel', x_axis='time')"
   ]
  },
  {
   "cell_type": "markdown",
   "metadata": {},
   "source": [
    "# Create spectrograms for all data \n",
    "\n",
    "# ADJUST DURATION + SHAPE + VERIFIED"
   ]
  },
  {
   "cell_type": "code",
   "execution_count": 16,
   "metadata": {},
   "outputs": [
    {
     "data": {
      "text/plain": [
       "(5580, 4)"
      ]
     },
     "execution_count": 16,
     "metadata": {},
     "output_type": "execute_result"
    }
   ],
   "source": [
    "valid_data.shape"
   ]
  },
  {
   "cell_type": "code",
   "execution_count": 17,
   "metadata": {},
   "outputs": [
    {
     "data": {
      "text/html": [
       "<div>\n",
       "<style scoped>\n",
       "    .dataframe tbody tr th:only-of-type {\n",
       "        vertical-align: middle;\n",
       "    }\n",
       "\n",
       "    .dataframe tbody tr th {\n",
       "        vertical-align: top;\n",
       "    }\n",
       "\n",
       "    .dataframe thead th {\n",
       "        text-align: right;\n",
       "    }\n",
       "</style>\n",
       "<table border=\"1\" class=\"dataframe\">\n",
       "  <thead>\n",
       "    <tr style=\"text-align: right;\">\n",
       "      <th></th>\n",
       "      <th>fname</th>\n",
       "      <th>label</th>\n",
       "      <th>manually_verified</th>\n",
       "      <th>Duration</th>\n",
       "      <th>path</th>\n",
       "      <th>value</th>\n",
       "    </tr>\n",
       "  </thead>\n",
       "  <tbody>\n",
       "    <tr>\n",
       "      <td>0</td>\n",
       "      <td>00044347.wav</td>\n",
       "      <td>Hi-hat</td>\n",
       "      <td>0</td>\n",
       "      <td>14.00</td>\n",
       "      <td>audio_train/00044347.wav</td>\n",
       "      <td>0</td>\n",
       "    </tr>\n",
       "    <tr>\n",
       "      <td>1</td>\n",
       "      <td>001ca53d.wav</td>\n",
       "      <td>Saxophone</td>\n",
       "      <td>1</td>\n",
       "      <td>10.32</td>\n",
       "      <td>audio_train/001ca53d.wav</td>\n",
       "      <td>1</td>\n",
       "    </tr>\n",
       "    <tr>\n",
       "      <td>2</td>\n",
       "      <td>0033e230.wav</td>\n",
       "      <td>Glockenspiel</td>\n",
       "      <td>1</td>\n",
       "      <td>8.00</td>\n",
       "      <td>audio_train/0033e230.wav</td>\n",
       "      <td>2</td>\n",
       "    </tr>\n",
       "    <tr>\n",
       "      <td>3</td>\n",
       "      <td>00353774.wav</td>\n",
       "      <td>Cello</td>\n",
       "      <td>1</td>\n",
       "      <td>4.52</td>\n",
       "      <td>audio_train/00353774.wav</td>\n",
       "      <td>3</td>\n",
       "    </tr>\n",
       "    <tr>\n",
       "      <td>4</td>\n",
       "      <td>003b91e8.wav</td>\n",
       "      <td>Cello</td>\n",
       "      <td>0</td>\n",
       "      <td>13.28</td>\n",
       "      <td>audio_train/003b91e8.wav</td>\n",
       "      <td>3</td>\n",
       "    </tr>\n",
       "    <tr>\n",
       "      <td>5</td>\n",
       "      <td>004ad66f.wav</td>\n",
       "      <td>Clarinet</td>\n",
       "      <td>0</td>\n",
       "      <td>7.00</td>\n",
       "      <td>audio_train/004ad66f.wav</td>\n",
       "      <td>4</td>\n",
       "    </tr>\n",
       "    <tr>\n",
       "      <td>6</td>\n",
       "      <td>0063ab88.wav</td>\n",
       "      <td>Computer_keyboard</td>\n",
       "      <td>0</td>\n",
       "      <td>29.64</td>\n",
       "      <td>audio_train/0063ab88.wav</td>\n",
       "      <td>5</td>\n",
       "    </tr>\n",
       "    <tr>\n",
       "      <td>7</td>\n",
       "      <td>0075d39c.wav</td>\n",
       "      <td>Keys_jangling</td>\n",
       "      <td>0</td>\n",
       "      <td>20.64</td>\n",
       "      <td>audio_train/0075d39c.wav</td>\n",
       "      <td>6</td>\n",
       "    </tr>\n",
       "    <tr>\n",
       "      <td>8</td>\n",
       "      <td>0079d310.wav</td>\n",
       "      <td>Writing</td>\n",
       "      <td>0</td>\n",
       "      <td>4.06</td>\n",
       "      <td>audio_train/0079d310.wav</td>\n",
       "      <td>7</td>\n",
       "    </tr>\n",
       "    <tr>\n",
       "      <td>9</td>\n",
       "      <td>0091fc7f.wav</td>\n",
       "      <td>Cello</td>\n",
       "      <td>1</td>\n",
       "      <td>5.70</td>\n",
       "      <td>audio_train/0091fc7f.wav</td>\n",
       "      <td>3</td>\n",
       "    </tr>\n",
       "    <tr>\n",
       "      <td>10</td>\n",
       "      <td>00ad7068.wav</td>\n",
       "      <td>Laughter</td>\n",
       "      <td>0</td>\n",
       "      <td>4.34</td>\n",
       "      <td>audio_train/00ad7068.wav</td>\n",
       "      <td>8</td>\n",
       "    </tr>\n",
       "    <tr>\n",
       "      <td>11</td>\n",
       "      <td>00c5808a.wav</td>\n",
       "      <td>Tearing</td>\n",
       "      <td>0</td>\n",
       "      <td>15.52</td>\n",
       "      <td>audio_train/00c5808a.wav</td>\n",
       "      <td>9</td>\n",
       "    </tr>\n",
       "    <tr>\n",
       "      <td>12</td>\n",
       "      <td>00cb787c.wav</td>\n",
       "      <td>Flute</td>\n",
       "      <td>1</td>\n",
       "      <td>7.10</td>\n",
       "      <td>audio_train/00cb787c.wav</td>\n",
       "      <td>10</td>\n",
       "    </tr>\n",
       "    <tr>\n",
       "      <td>13</td>\n",
       "      <td>00d1fe46.wav</td>\n",
       "      <td>Cough</td>\n",
       "      <td>0</td>\n",
       "      <td>4.48</td>\n",
       "      <td>audio_train/00d1fe46.wav</td>\n",
       "      <td>11</td>\n",
       "    </tr>\n",
       "    <tr>\n",
       "      <td>14</td>\n",
       "      <td>00d3bba3.wav</td>\n",
       "      <td>Telephone</td>\n",
       "      <td>1</td>\n",
       "      <td>9.74</td>\n",
       "      <td>audio_train/00d3bba3.wav</td>\n",
       "      <td>12</td>\n",
       "    </tr>\n",
       "    <tr>\n",
       "      <td>15</td>\n",
       "      <td>00d40fa2.wav</td>\n",
       "      <td>Snare_drum</td>\n",
       "      <td>0</td>\n",
       "      <td>3.18</td>\n",
       "      <td>audio_train/00d40fa2.wav</td>\n",
       "      <td>13</td>\n",
       "    </tr>\n",
       "    <tr>\n",
       "      <td>16</td>\n",
       "      <td>00d9fa61.wav</td>\n",
       "      <td>Flute</td>\n",
       "      <td>0</td>\n",
       "      <td>5.00</td>\n",
       "      <td>audio_train/00d9fa61.wav</td>\n",
       "      <td>10</td>\n",
       "    </tr>\n",
       "    <tr>\n",
       "      <td>17</td>\n",
       "      <td>00e2b4cd.wav</td>\n",
       "      <td>Bark</td>\n",
       "      <td>1</td>\n",
       "      <td>14.08</td>\n",
       "      <td>audio_train/00e2b4cd.wav</td>\n",
       "      <td>14</td>\n",
       "    </tr>\n",
       "    <tr>\n",
       "      <td>18</td>\n",
       "      <td>00f88dc5.wav</td>\n",
       "      <td>Glockenspiel</td>\n",
       "      <td>1</td>\n",
       "      <td>8.00</td>\n",
       "      <td>audio_train/00f88dc5.wav</td>\n",
       "      <td>2</td>\n",
       "    </tr>\n",
       "    <tr>\n",
       "      <td>19</td>\n",
       "      <td>00fbb28b.wav</td>\n",
       "      <td>Chime</td>\n",
       "      <td>0</td>\n",
       "      <td>17.50</td>\n",
       "      <td>audio_train/00fbb28b.wav</td>\n",
       "      <td>15</td>\n",
       "    </tr>\n",
       "  </tbody>\n",
       "</table>\n",
       "</div>"
      ],
      "text/plain": [
       "           fname              label  manually_verified  Duration  \\\n",
       "0   00044347.wav             Hi-hat                  0     14.00   \n",
       "1   001ca53d.wav          Saxophone                  1     10.32   \n",
       "2   0033e230.wav       Glockenspiel                  1      8.00   \n",
       "3   00353774.wav              Cello                  1      4.52   \n",
       "4   003b91e8.wav              Cello                  0     13.28   \n",
       "5   004ad66f.wav           Clarinet                  0      7.00   \n",
       "6   0063ab88.wav  Computer_keyboard                  0     29.64   \n",
       "7   0075d39c.wav      Keys_jangling                  0     20.64   \n",
       "8   0079d310.wav            Writing                  0      4.06   \n",
       "9   0091fc7f.wav              Cello                  1      5.70   \n",
       "10  00ad7068.wav           Laughter                  0      4.34   \n",
       "11  00c5808a.wav            Tearing                  0     15.52   \n",
       "12  00cb787c.wav              Flute                  1      7.10   \n",
       "13  00d1fe46.wav              Cough                  0      4.48   \n",
       "14  00d3bba3.wav          Telephone                  1      9.74   \n",
       "15  00d40fa2.wav         Snare_drum                  0      3.18   \n",
       "16  00d9fa61.wav              Flute                  0      5.00   \n",
       "17  00e2b4cd.wav               Bark                  1     14.08   \n",
       "18  00f88dc5.wav       Glockenspiel                  1      8.00   \n",
       "19  00fbb28b.wav              Chime                  0     17.50   \n",
       "\n",
       "                        path  value  \n",
       "0   audio_train/00044347.wav      0  \n",
       "1   audio_train/001ca53d.wav      1  \n",
       "2   audio_train/0033e230.wav      2  \n",
       "3   audio_train/00353774.wav      3  \n",
       "4   audio_train/003b91e8.wav      3  \n",
       "5   audio_train/004ad66f.wav      4  \n",
       "6   audio_train/0063ab88.wav      5  \n",
       "7   audio_train/0075d39c.wav      6  \n",
       "8   audio_train/0079d310.wav      7  \n",
       "9   audio_train/0091fc7f.wav      3  \n",
       "10  audio_train/00ad7068.wav      8  \n",
       "11  audio_train/00c5808a.wav      9  \n",
       "12  audio_train/00cb787c.wav     10  \n",
       "13  audio_train/00d1fe46.wav     11  \n",
       "14  audio_train/00d3bba3.wav     12  \n",
       "15  audio_train/00d40fa2.wav     13  \n",
       "16  audio_train/00d9fa61.wav     10  \n",
       "17  audio_train/00e2b4cd.wav     14  \n",
       "18  audio_train/00f88dc5.wav      2  \n",
       "19  audio_train/00fbb28b.wav     15  "
      ]
     },
     "execution_count": 17,
     "metadata": {},
     "output_type": "execute_result"
    }
   ],
   "source": [
    "valid_data['path'] = 'audio_train/' + valid_data['fname']\n",
    "\n",
    "# Select verified audio\n",
    "#valid_data = valid_data.loc[valid_data['manually_verified'] == 1]\n",
    "\n",
    "# Add numerical values\n",
    "valid_data['value'] = pd.factorize(valid_data.label)[0]\n",
    "\n",
    "valid_data.head(20)"
   ]
  },
  {
   "cell_type": "code",
   "execution_count": 18,
   "metadata": {},
   "outputs": [
    {
     "data": {
      "text/plain": [
       "(5580, 6)"
      ]
     },
     "execution_count": 18,
     "metadata": {},
     "output_type": "execute_result"
    }
   ],
   "source": [
    "valid_data.shape"
   ]
  },
  {
   "cell_type": "code",
   "execution_count": 12,
   "metadata": {},
   "outputs": [],
   "source": [
    "#new = valid_data.head(20)"
   ]
  },
  {
   "cell_type": "code",
   "execution_count": 22,
   "metadata": {},
   "outputs": [],
   "source": [
    "D = [] # Dataset\n",
    "\n",
    "for row in valid_data.itertuples():\n",
    "    y, sr = librosa.load('freesound-audio-tagging/' + row.path, duration= 2.97)  #change path on diff comps\n",
    "    ps = librosa.feature.melspectrogram(y=y, sr=sr)\n",
    "    if ps.shape != (128, 128): continue\n",
    "    D.append( (ps, row.value) )"
   ]
  },
  {
   "cell_type": "code",
   "execution_count": 23,
   "metadata": {},
   "outputs": [
    {
     "name": "stdout",
     "output_type": "stream",
     "text": [
      "Number of samples:  5580\n"
     ]
    }
   ],
   "source": [
    "print(\"Number of samples: \", len(D))"
   ]
  },
  {
   "cell_type": "markdown",
   "metadata": {},
   "source": [
    "# Split Dataset * STRATIFY"
   ]
  },
  {
   "cell_type": "code",
   "execution_count": 33,
   "metadata": {},
   "outputs": [],
   "source": [
    "from sklearn.model_selection import train_test_split\n",
    "from keras.utils import to_categorical"
   ]
  },
  {
   "cell_type": "code",
   "execution_count": 24,
   "metadata": {},
   "outputs": [],
   "source": [
    "from sklearn.model_selection import train_test_split\n",
    "from keras.utils import to_categorical"
   ]
  },
  {
   "cell_type": "code",
   "execution_count": 16,
   "metadata": {},
   "outputs": [
    {
     "data": {
      "text/plain": [
       "41"
      ]
     },
<<<<<<< HEAD
     "execution_count": 16,
=======
     "execution_count": 24,
>>>>>>> 0d83afe6b82b2ef8ff42870f9d232371bb92b1d9
     "metadata": {},
     "output_type": "execute_result"
    }
   ],
   "source": [
    "valid_data['label'].nunique()"
   ]
  },
  {
   "cell_type": "code",
<<<<<<< HEAD
   "execution_count": 17,
=======
   "execution_count": 27,
>>>>>>> 0d83afe6b82b2ef8ff42870f9d232371bb92b1d9
   "metadata": {},
   "outputs": [],
   "source": [
    "dataset = D\n",
    "random.shuffle(dataset)"
   ]
  },
  {
   "cell_type": "code",
<<<<<<< HEAD
   "execution_count": 18,
=======
   "execution_count": 29,
>>>>>>> 0d83afe6b82b2ef8ff42870f9d232371bb92b1d9
   "metadata": {},
   "outputs": [],
   "source": [
    "data = pd.DataFrame(dataset, columns = ['mel-spec', 'label'])"
   ]
  },
  {
   "cell_type": "code",
<<<<<<< HEAD
   "execution_count": 19,
=======
   "execution_count": 30,
>>>>>>> 0d83afe6b82b2ef8ff42870f9d232371bb92b1d9
   "metadata": {},
   "outputs": [
    {
     "data": {
      "text/html": [
       "<div>\n",
       "<style scoped>\n",
       "    .dataframe tbody tr th:only-of-type {\n",
       "        vertical-align: middle;\n",
       "    }\n",
       "\n",
       "    .dataframe tbody tr th {\n",
       "        vertical-align: top;\n",
       "    }\n",
       "\n",
       "    .dataframe thead th {\n",
       "        text-align: right;\n",
       "    }\n",
       "</style>\n",
       "<table border=\"1\" class=\"dataframe\">\n",
       "  <thead>\n",
       "    <tr style=\"text-align: right;\">\n",
       "      <th></th>\n",
       "      <th>mel-spec</th>\n",
       "      <th>label</th>\n",
       "    </tr>\n",
       "  </thead>\n",
       "  <tbody>\n",
       "    <tr>\n",
       "      <td>0</td>\n",
<<<<<<< HEAD
       "      <td>[[0.36592063, 0.107316755, 0.063437305, 0.0799...</td>\n",
       "      <td>28</td>\n",
       "    </tr>\n",
       "    <tr>\n",
       "      <td>1</td>\n",
       "      <td>[[1.3028877e-06, 1.5427041e-06, 3.4005202e-06,...</td>\n",
       "      <td>8</td>\n",
       "    </tr>\n",
       "    <tr>\n",
       "      <td>2</td>\n",
       "      <td>[[0.00010807311, 0.000864823, 0.00093320577, 0...</td>\n",
       "      <td>9</td>\n",
=======
       "      <td>[[0.00057515444, 0.0029652007, 0.007832652, 0....</td>\n",
       "      <td>24</td>\n",
       "    </tr>\n",
       "    <tr>\n",
       "      <td>1</td>\n",
       "      <td>[[0.040486075, 0.3551409, 1.1449049, 1.1525862...</td>\n",
       "      <td>9</td>\n",
       "    </tr>\n",
       "    <tr>\n",
       "      <td>2</td>\n",
       "      <td>[[6.4460173, 1.6958972, 0.059620056, 0.0871808...</td>\n",
       "      <td>27</td>\n",
>>>>>>> 0d83afe6b82b2ef8ff42870f9d232371bb92b1d9
       "    </tr>\n",
       "  </tbody>\n",
       "</table>\n",
       "</div>"
      ],
      "text/plain": [
       "                                            mel-spec  label\n",
<<<<<<< HEAD
       "0  [[0.36592063, 0.107316755, 0.063437305, 0.0799...     28\n",
       "1  [[1.3028877e-06, 1.5427041e-06, 3.4005202e-06,...      8\n",
       "2  [[0.00010807311, 0.000864823, 0.00093320577, 0...      9"
      ]
     },
     "execution_count": 19,
=======
       "0  [[0.00057515444, 0.0029652007, 0.007832652, 0....     24\n",
       "1  [[0.040486075, 0.3551409, 1.1449049, 1.1525862...      9\n",
       "2  [[6.4460173, 1.6958972, 0.059620056, 0.0871808...     27"
      ]
     },
     "execution_count": 30,
>>>>>>> 0d83afe6b82b2ef8ff42870f9d232371bb92b1d9
     "metadata": {},
     "output_type": "execute_result"
    }
   ],
   "source": [
    "data.head(3)"
   ]
  },
  {
   "cell_type": "code",
<<<<<<< HEAD
   "execution_count": 20,
=======
   "execution_count": 34,
>>>>>>> 0d83afe6b82b2ef8ff42870f9d232371bb92b1d9
   "metadata": {},
   "outputs": [],
   "source": [
    "x = data['mel-spec'].values\n",
    "y = to_categorical(data['label'].values)"
   ]
  },
  {
   "cell_type": "code",
<<<<<<< HEAD
   "execution_count": 21,
=======
   "execution_count": 40,
>>>>>>> 0d83afe6b82b2ef8ff42870f9d232371bb92b1d9
   "metadata": {},
   "outputs": [],
   "source": [
    "#Stratify and split\n",
    "X_train, X_test, y_train, y_test = train_test_split(x, y, test_size = 0.2, random_state = 42, stratify = y)"
   ]
  },
  {
   "cell_type": "code",
<<<<<<< HEAD
   "execution_count": 22,
=======
   "execution_count": 41,
>>>>>>> 0d83afe6b82b2ef8ff42870f9d232371bb92b1d9
   "metadata": {},
   "outputs": [],
   "source": [
    "#Reshape for CNN input\n",
    "X_train = np.array([x.reshape( (128, 128, 1) ) for x in X_train])\n",
    "X_test = np.array([x.reshape( (128, 128, 1) ) for x in X_test])"
   ]
  },
  {
   "cell_type": "code",
<<<<<<< HEAD
   "execution_count": 23,
=======
   "execution_count": 19,
>>>>>>> 0d83afe6b82b2ef8ff42870f9d232371bb92b1d9
   "metadata": {},
   "outputs": [],
   "source": [
    "\n",
    "# STRATIFY\n",
    "#train = dataset[:4464]\n",
    "#test = dataset[4464:]\n",
    "\n",
    "#X_train, y_train = zip(*train)\n",
    "#X_test, y_test = zip(*test)\n",
    "\n",
    "# Reshape for CNN input\n",
    "#X_train = np.array([x.reshape( (128, 128, 1) ) for x in X_train])\n",
    "#X_test = np.array([x.reshape( (128, 128, 1) ) for x in X_test])\n",
    "\n",
    "# One-Hot encoding for classes\n",
    "#y_train = np.array(keras.utils.to_categorical(y_train, 41))\n",
    "#y_test = np.array(keras.utils.to_categorical(y_test, 41))"
   ]
  },
  {
   "cell_type": "code",
<<<<<<< HEAD
   "execution_count": 24,
=======
   "execution_count": 42,
>>>>>>> 0d83afe6b82b2ef8ff42870f9d232371bb92b1d9
   "metadata": {},
   "outputs": [],
   "source": [
    "model = Sequential()\n",
    "input_shape=(128, 128, 1)\n",
    "\n",
    "model.add(Conv2D(32, (5, 5), strides=(1, 1), input_shape=input_shape))\n",
    "model.add(MaxPooling2D((4, 2), strides=(4, 2)))\n",
    "model.add(Activation('relu'))\n",
    "\n",
    "model.add(Conv2D(64, (5, 5), padding=\"valid\"))\n",
    "model.add(MaxPooling2D((4, 2), strides=(4, 2)))\n",
    "model.add(Activation('relu'))\n",
    "\n",
    "model.add(Conv2D(64, (5, 5), padding=\"valid\"))\n",
    "model.add(Activation('relu'))\n",
    "\n",
    "model.add(Flatten())\n",
    "model.add(Dropout(rate=0.5))\n",
    "\n",
    "model.add(Dense(128))\n",
    "model.add(Activation('relu'))\n",
    "model.add(Dropout(rate=0.5))\n",
    "\n",
    "#model.add(Dense(10))\n",
    "model.add(Dense(41))\n",
    "model.add(Activation('softmax'))"
   ]
  },
  {
   "cell_type": "code",
<<<<<<< HEAD
   "execution_count": 25,
=======
   "execution_count": 43,
>>>>>>> 0d83afe6b82b2ef8ff42870f9d232371bb92b1d9
   "metadata": {},
   "outputs": [
    {
     "name": "stdout",
     "output_type": "stream",
     "text": [
      "Train on 4464 samples, validate on 1116 samples\n",
      "Epoch 1/12\n",
<<<<<<< HEAD
      "4464/4464 [==============================] - 45s 10ms/step - loss: 5.2568 - accuracy: 0.0390 - val_loss: 3.6883 - val_accuracy: 0.0529\n",
      "Epoch 2/12\n",
      "4464/4464 [==============================] - 38s 9ms/step - loss: 3.7354 - accuracy: 0.0596 - val_loss: 3.6695 - val_accuracy: 0.0753\n",
      "Epoch 3/12\n",
      "4464/4464 [==============================] - 37s 8ms/step - loss: 3.6784 - accuracy: 0.0685 - val_loss: 3.6411 - val_accuracy: 0.0780\n",
      "Epoch 4/12\n",
      "4464/4464 [==============================] - 38s 8ms/step - loss: 3.6376 - accuracy: 0.0719 - val_loss: 3.5775 - val_accuracy: 0.0753\n",
      "Epoch 5/12\n",
      "4464/4464 [==============================] - 38s 8ms/step - loss: 3.5867 - accuracy: 0.0757 - val_loss: 3.5362 - val_accuracy: 0.0977\n",
      "Epoch 6/12\n",
      "4464/4464 [==============================] - 37s 8ms/step - loss: 3.5239 - accuracy: 0.0945 - val_loss: 3.4924 - val_accuracy: 0.1237\n",
      "Epoch 7/12\n",
      "4464/4464 [==============================] - 37s 8ms/step - loss: 3.4965 - accuracy: 0.1017 - val_loss: 3.4734 - val_accuracy: 0.1470\n",
      "Epoch 8/12\n",
      "4464/4464 [==============================] - 38s 8ms/step - loss: 3.4505 - accuracy: 0.1082 - val_loss: 3.3601 - val_accuracy: 0.1667\n",
      "Epoch 9/12\n",
      "4464/4464 [==============================] - 39s 9ms/step - loss: 3.3996 - accuracy: 0.1286 - val_loss: 3.3907 - val_accuracy: 0.1505\n",
      "Epoch 10/12\n",
      "4464/4464 [==============================] - 37s 8ms/step - loss: 3.3304 - accuracy: 0.1420 - val_loss: 3.2417 - val_accuracy: 0.1837\n",
      "Epoch 11/12\n",
      "4464/4464 [==============================] - 38s 8ms/step - loss: 3.2753 - accuracy: 0.1673 - val_loss: 3.2129 - val_accuracy: 0.1873\n",
      "Epoch 12/12\n",
      "4464/4464 [==============================] - 37s 8ms/step - loss: 3.2374 - accuracy: 0.1703 - val_loss: 3.2069 - val_accuracy: 0.2115\n",
      "1116/1116 [==============================] - 3s 3ms/step\n",
      "Test loss: 3.206886327394875\n",
      "Test accuracy: 0.21146953105926514\n"
=======
      "4464/4464 [==============================] - 45s 10ms/step - loss: 6.1344 - accuracy: 0.0401 - val_loss: 3.7112 - val_accuracy: 0.0582\n",
      "Epoch 2/12\n",
      "4464/4464 [==============================] - 47s 11ms/step - loss: 3.7291 - accuracy: 0.0589 - val_loss: 3.6943 - val_accuracy: 0.0582\n",
      "Epoch 3/12\n",
      "4464/4464 [==============================] - 58s 13ms/step - loss: 3.6973 - accuracy: 0.0618 - val_loss: 3.6616 - val_accuracy: 0.0600\n",
      "Epoch 4/12\n",
      "4464/4464 [==============================] - 50s 11ms/step - loss: 3.6978 - accuracy: 0.0625 - val_loss: 3.6539 - val_accuracy: 0.0609\n",
      "Epoch 5/12\n",
      "4464/4464 [==============================] - 50s 11ms/step - loss: 3.6532 - accuracy: 0.0663 - val_loss: 3.6093 - val_accuracy: 0.0618\n",
      "Epoch 6/12\n",
      "4464/4464 [==============================] - 51s 11ms/step - loss: 3.6160 - accuracy: 0.0712 - val_loss: 3.5921 - val_accuracy: 0.0815\n",
      "Epoch 7/12\n",
      "4464/4464 [==============================] - 51s 11ms/step - loss: 3.5772 - accuracy: 0.0793 - val_loss: 3.5280 - val_accuracy: 0.0950\n",
      "Epoch 8/12\n",
      "4464/4464 [==============================] - 51s 12ms/step - loss: 3.5324 - accuracy: 0.0901 - val_loss: 3.4687 - val_accuracy: 0.1039\n",
      "Epoch 9/12\n",
      "4464/4464 [==============================] - 49s 11ms/step - loss: 3.4778 - accuracy: 0.0950 - val_loss: 3.4310 - val_accuracy: 0.1246\n",
      "Epoch 10/12\n",
      "4464/4464 [==============================] - 48s 11ms/step - loss: 3.4670 - accuracy: 0.1062 - val_loss: 3.3904 - val_accuracy: 0.1308\n",
      "Epoch 11/12\n",
      "4464/4464 [==============================] - 48s 11ms/step - loss: 3.4647 - accuracy: 0.1181 - val_loss: 3.4216 - val_accuracy: 0.1120\n",
      "Epoch 12/12\n",
      "4464/4464 [==============================] - 48s 11ms/step - loss: 3.4191 - accuracy: 0.1252 - val_loss: 3.3818 - val_accuracy: 0.1416\n",
      "1116/1116 [==============================] - 3s 3ms/step\n",
      "Test loss: 3.381794855158816\n",
      "Test accuracy: 0.14157706499099731\n"
>>>>>>> 0d83afe6b82b2ef8ff42870f9d232371bb92b1d9
     ]
    }
   ],
   "source": [
    "model.compile(optimizer=\"Adam\",loss=\"categorical_crossentropy\", metrics=['accuracy'])\n",
    "\n",
    "model.fit(X_train, y_train, epochs=12, batch_size=128, validation_data = (X_test, y_test))\n",
    "\n",
    "score = model.evaluate(X_test, y_test)\n",
    "\n",
    "print('Test loss:', score[0])\n",
    "print('Test accuracy:', score[1])"
   ]
  },
  {
   "cell_type": "code",
   "execution_count": null,
   "metadata": {},
   "outputs": [],
   "source": []
  },
  {
   "cell_type": "code",
   "execution_count": null,
   "metadata": {},
   "outputs": [],
   "source": []
  }
 ],
 "metadata": {
  "kernelspec": {
   "display_name": "Python 3",
   "language": "python",
   "name": "python3"
  },
  "language_info": {
   "codemirror_mode": {
    "name": "ipython",
    "version": 3
   },
   "file_extension": ".py",
   "mimetype": "text/x-python",
   "name": "python",
   "nbconvert_exporter": "python",
   "pygments_lexer": "ipython3",
   "version": "3.7.4"
  }
 },
 "nbformat": 4,
 "nbformat_minor": 2
}
