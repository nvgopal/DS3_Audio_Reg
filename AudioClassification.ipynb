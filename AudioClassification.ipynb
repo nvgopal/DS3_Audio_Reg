{
 "cells": [
  {
   "cell_type": "code",
   "execution_count": 1,
   "metadata": {},
   "outputs": [
    {
     "name": "stderr",
     "output_type": "stream",
     "text": [
      "Using TensorFlow backend.\n"
     ]
    }
   ],
   "source": [
    "import keras\n",
    "from keras.layers import Activation, Dense, Dropout, Conv2D, \\\n",
    "                         Flatten, MaxPooling2D\n",
    "from keras.models import Sequential\n",
    "import librosa\n",
    "import librosa.display\n",
    "import numpy as np\n",
    "import pandas as pd\n",
    "import random\n",
    "\n",
    "import warnings\n",
    "warnings.filterwarnings('ignore')"
   ]
  },
  {
   "cell_type": "markdown",
   "metadata": {},
   "source": [
    "# Import Data"
   ]
  },
  {
   "cell_type": "code",
   "execution_count": 2,
   "metadata": {},
   "outputs": [
    {
     "data": {
      "text/html": [
       "<div>\n",
       "<style scoped>\n",
       "    .dataframe tbody tr th:only-of-type {\n",
       "        vertical-align: middle;\n",
       "    }\n",
       "\n",
       "    .dataframe tbody tr th {\n",
       "        vertical-align: top;\n",
       "    }\n",
       "\n",
       "    .dataframe thead th {\n",
       "        text-align: right;\n",
       "    }\n",
       "</style>\n",
       "<table border=\"1\" class=\"dataframe\">\n",
       "  <thead>\n",
       "    <tr style=\"text-align: right;\">\n",
       "      <th></th>\n",
       "      <th>fname</th>\n",
       "      <th>label</th>\n",
       "      <th>manually_verified</th>\n",
       "      <th>Duration</th>\n",
       "    </tr>\n",
       "  </thead>\n",
       "  <tbody>\n",
       "    <tr>\n",
       "      <th>0</th>\n",
       "      <td>00044347.wav</td>\n",
       "      <td>Hi-hat</td>\n",
       "      <td>0</td>\n",
       "      <td>14.00</td>\n",
       "    </tr>\n",
       "    <tr>\n",
       "      <th>1</th>\n",
       "      <td>001ca53d.wav</td>\n",
       "      <td>Saxophone</td>\n",
       "      <td>1</td>\n",
       "      <td>10.32</td>\n",
       "    </tr>\n",
       "    <tr>\n",
       "      <th>2</th>\n",
       "      <td>0033e230.wav</td>\n",
       "      <td>Glockenspiel</td>\n",
       "      <td>1</td>\n",
       "      <td>8.00</td>\n",
       "    </tr>\n",
       "    <tr>\n",
       "      <th>3</th>\n",
       "      <td>00353774.wav</td>\n",
       "      <td>Cello</td>\n",
       "      <td>1</td>\n",
       "      <td>4.52</td>\n",
       "    </tr>\n",
       "    <tr>\n",
       "      <th>4</th>\n",
       "      <td>003b91e8.wav</td>\n",
       "      <td>Cello</td>\n",
       "      <td>0</td>\n",
       "      <td>13.28</td>\n",
       "    </tr>\n",
       "  </tbody>\n",
       "</table>\n",
       "</div>"
      ],
      "text/plain": [
       "          fname         label  manually_verified  Duration\n",
       "0  00044347.wav        Hi-hat                  0     14.00\n",
       "1  001ca53d.wav     Saxophone                  1     10.32\n",
       "2  0033e230.wav  Glockenspiel                  1      8.00\n",
       "3  00353774.wav         Cello                  1      4.52\n",
       "4  003b91e8.wav         Cello                  0     13.28"
      ]
     },
     "execution_count": 2,
     "metadata": {},
     "output_type": "execute_result"
    }
   ],
   "source": [
    "valid_data = pd.read_csv('valid_data.csv')\n",
    "valid_data.head(5)"
   ]
  },
  {
   "cell_type": "code",
   "execution_count": 3,
   "metadata": {},
   "outputs": [
    {
     "data": {
      "text/plain": [
       "(5580, 4)"
      ]
     },
     "execution_count": 3,
     "metadata": {},
     "output_type": "execute_result"
    }
   ],
   "source": [
    "valid_data.shape"
   ]
  },
  {
   "cell_type": "code",
   "execution_count": 4,
   "metadata": {},
   "outputs": [
    {
     "data": {
      "text/plain": [
       "<matplotlib.axes._subplots.AxesSubplot at 0x13dbdde80>"
      ]
     },
     "execution_count": 4,
     "metadata": {},
     "output_type": "execute_result"
    }
   ],
   "source": [
    "valid_data['Duration'].hist(bins = 27)"
   ]
  },
  {
   "cell_type": "markdown",
   "metadata": {},
   "source": [
    "# Change duration for spectrogram"
   ]
  },
  {
   "cell_type": "code",
   "execution_count": 5,
   "metadata": {},
   "outputs": [
    {
     "data": {
      "text/plain": [
       "(128, 128)"
      ]
     },
     "execution_count": 5,
     "metadata": {},
     "output_type": "execute_result"
    }
   ],
   "source": [
    "# Example of a Hi Hat spectrogram\n",
    "y, sr = librosa.load('audio_train/00044347.wav', duration=2.97)\n",
    "ps = librosa.feature.melspectrogram(y=y, sr=sr)\n",
    "ps.shape"
   ]
  },
  {
   "cell_type": "code",
   "execution_count": 6,
   "metadata": {
    "scrolled": true
   },
   "outputs": [
    {
     "data": {
      "text/plain": [
       "<matplotlib.axes._subplots.AxesSubplot at 0x13e37e0f0>"
      ]
     },
     "execution_count": 6,
     "metadata": {},
     "output_type": "execute_result"
    },
    {
     "data": {
      "image/png": "[encoded data removed]",
      "text/plain": [
       "<Figure size 432x288 with 1 Axes>"
      ]
     },
     "metadata": {
      "needs_background": "light"
     },
     "output_type": "display_data"
    }
   ],
   "source": [
    "librosa.display.specshow(ps, y_axis='mel', x_axis='time')"
   ]
  },
  {
   "cell_type": "code",
   "execution_count": 7,
   "metadata": {},
   "outputs": [
    {
     "data": {
      "text/plain": [
       "(128, 128)"
      ]
     },
     "execution_count": 7,
     "metadata": {},
     "output_type": "execute_result"
    }
   ],
   "source": [
    "# Example of a Saxophone spectrogram\n",
    "y, sr = librosa.load('audio_train/001ca53d.wav', duration=2.97)\n",
    "ps = librosa.feature.melspectrogram(y=y, sr=sr)\n",
    "ps.shape"
   ]
  },
  {
   "cell_type": "code",
   "execution_count": 8,
   "metadata": {},
   "outputs": [
    {
     "data": {
      "text/plain": [
       "<matplotlib.axes._subplots.AxesSubplot at 0x104c51cf8>"
      ]
     },
     "execution_count": 8,
     "metadata": {},
     "output_type": "execute_result"
    },
    {
     "data": {
      "image/png": "[encoded data removed]",
      "text/plain": [
       "<Figure size 432x288 with 1 Axes>"
      ]
     },
     "metadata": {
      "needs_background": "light"
     },
     "output_type": "display_data"
    }
   ],
   "source": [
    "librosa.display.specshow(ps, y_axis='mel', x_axis='time')"
   ]
  },
  {
   "cell_type": "markdown",
   "metadata": {},
   "source": [
    "# Create spectrograms for all data \n",
    "\n",
    "# ADJUST DURATION + SHAPE + VERIFIED"
   ]
  },
  {
   "cell_type": "code",
   "execution_count": 9,
   "metadata": {},
   "outputs": [
    {
     "data": {
      "text/plain": [
       "(5580, 4)"
      ]
     },
     "execution_count": 9,
     "metadata": {},
     "output_type": "execute_result"
    }
   ],
   "source": [
    "valid_data.shape"
   ]
  },
  {
   "cell_type": "code",
   "execution_count": 10,
   "metadata": {},
   "outputs": [
    {
     "data": {
      "text/html": [
       "<div>\n",
       "<style scoped>\n",
       "    .dataframe tbody tr th:only-of-type {\n",
       "        vertical-align: middle;\n",
       "    }\n",
       "\n",
       "    .dataframe tbody tr th {\n",
       "        vertical-align: top;\n",
       "    }\n",
       "\n",
       "    .dataframe thead th {\n",
       "        text-align: right;\n",
       "    }\n",
       "</style>\n",
       "<table border=\"1\" class=\"dataframe\">\n",
       "  <thead>\n",
       "    <tr style=\"text-align: right;\">\n",
       "      <th></th>\n",
       "      <th>fname</th>\n",
       "      <th>label</th>\n",
       "      <th>manually_verified</th>\n",
       "      <th>Duration</th>\n",
       "      <th>path</th>\n",
       "      <th>value</th>\n",
       "    </tr>\n",
       "  </thead>\n",
       "  <tbody>\n",
       "    <tr>\n",
       "      <th>0</th>\n",
       "      <td>00044347.wav</td>\n",
       "      <td>Hi-hat</td>\n",
       "      <td>0</td>\n",
       "      <td>14.00</td>\n",
       "      <td>audio_train/00044347.wav</td>\n",
       "      <td>0</td>\n",
       "    </tr>\n",
       "    <tr>\n",
       "      <th>1</th>\n",
       "      <td>001ca53d.wav</td>\n",
       "      <td>Saxophone</td>\n",
       "      <td>1</td>\n",
       "      <td>10.32</td>\n",
       "      <td>audio_train/001ca53d.wav</td>\n",
       "      <td>1</td>\n",
       "    </tr>\n",
       "    <tr>\n",
       "      <th>2</th>\n",
       "      <td>0033e230.wav</td>\n",
       "      <td>Glockenspiel</td>\n",
       "      <td>1</td>\n",
       "      <td>8.00</td>\n",
       "      <td>audio_train/0033e230.wav</td>\n",
       "      <td>2</td>\n",
       "    </tr>\n",
       "    <tr>\n",
       "      <th>3</th>\n",
       "      <td>00353774.wav</td>\n",
       "      <td>Cello</td>\n",
       "      <td>1</td>\n",
       "      <td>4.52</td>\n",
       "      <td>audio_train/00353774.wav</td>\n",
       "      <td>3</td>\n",
       "    </tr>\n",
       "    <tr>\n",
       "      <th>4</th>\n",
       "      <td>003b91e8.wav</td>\n",
       "      <td>Cello</td>\n",
       "      <td>0</td>\n",
       "      <td>13.28</td>\n",
       "      <td>audio_train/003b91e8.wav</td>\n",
       "      <td>3</td>\n",
       "    </tr>\n",
       "    <tr>\n",
       "      <th>5</th>\n",
       "      <td>004ad66f.wav</td>\n",
       "      <td>Clarinet</td>\n",
       "      <td>0</td>\n",
       "      <td>7.00</td>\n",
       "      <td>audio_train/004ad66f.wav</td>\n",
       "      <td>4</td>\n",
       "    </tr>\n",
       "    <tr>\n",
       "      <th>6</th>\n",
       "      <td>0063ab88.wav</td>\n",
       "      <td>Computer_keyboard</td>\n",
       "      <td>0</td>\n",
       "      <td>29.64</td>\n",
       "      <td>audio_train/0063ab88.wav</td>\n",
       "      <td>5</td>\n",
       "    </tr>\n",
       "    <tr>\n",
       "      <th>7</th>\n",
       "      <td>0075d39c.wav</td>\n",
       "      <td>Keys_jangling</td>\n",
       "      <td>0</td>\n",
       "      <td>20.64</td>\n",
       "      <td>audio_train/0075d39c.wav</td>\n",
       "      <td>6</td>\n",
       "    </tr>\n",
       "    <tr>\n",
       "      <th>8</th>\n",
       "      <td>0079d310.wav</td>\n",
       "      <td>Writing</td>\n",
       "      <td>0</td>\n",
       "      <td>4.06</td>\n",
       "      <td>audio_train/0079d310.wav</td>\n",
       "      <td>7</td>\n",
       "    </tr>\n",
       "    <tr>\n",
       "      <th>9</th>\n",
       "      <td>0091fc7f.wav</td>\n",
       "      <td>Cello</td>\n",
       "      <td>1</td>\n",
       "      <td>5.70</td>\n",
       "      <td>audio_train/0091fc7f.wav</td>\n",
       "      <td>3</td>\n",
       "    </tr>\n",
       "    <tr>\n",
       "      <th>10</th>\n",
       "      <td>00ad7068.wav</td>\n",
       "      <td>Laughter</td>\n",
       "      <td>0</td>\n",
       "      <td>4.34</td>\n",
       "      <td>audio_train/00ad7068.wav</td>\n",
       "      <td>8</td>\n",
       "    </tr>\n",
       "    <tr>\n",
       "      <th>11</th>\n",
       "      <td>00c5808a.wav</td>\n",
       "      <td>Tearing</td>\n",
       "      <td>0</td>\n",
       "      <td>15.52</td>\n",
       "      <td>audio_train/00c5808a.wav</td>\n",
       "      <td>9</td>\n",
       "    </tr>\n",
       "    <tr>\n",
       "      <th>12</th>\n",
       "      <td>00cb787c.wav</td>\n",
       "      <td>Flute</td>\n",
       "      <td>1</td>\n",
       "      <td>7.10</td>\n",
       "      <td>audio_train/00cb787c.wav</td>\n",
       "      <td>10</td>\n",
       "    </tr>\n",
       "    <tr>\n",
       "      <th>13</th>\n",
       "      <td>00d1fe46.wav</td>\n",
       "      <td>Cough</td>\n",
       "      <td>0</td>\n",
       "      <td>4.48</td>\n",
       "      <td>audio_train/00d1fe46.wav</td>\n",
       "      <td>11</td>\n",
       "    </tr>\n",
       "    <tr>\n",
       "      <th>14</th>\n",
       "      <td>00d3bba3.wav</td>\n",
       "      <td>Telephone</td>\n",
       "      <td>1</td>\n",
       "      <td>9.74</td>\n",
       "      <td>audio_train/00d3bba3.wav</td>\n",
       "      <td>12</td>\n",
       "    </tr>\n",
       "    <tr>\n",
       "      <th>15</th>\n",
       "      <td>00d40fa2.wav</td>\n",
       "      <td>Snare_drum</td>\n",
       "      <td>0</td>\n",
       "      <td>3.18</td>\n",
       "      <td>audio_train/00d40fa2.wav</td>\n",
       "      <td>13</td>\n",
       "    </tr>\n",
       "    <tr>\n",
       "      <th>16</th>\n",
       "      <td>00d9fa61.wav</td>\n",
       "      <td>Flute</td>\n",
       "      <td>0</td>\n",
       "      <td>5.00</td>\n",
       "      <td>audio_train/00d9fa61.wav</td>\n",
       "      <td>10</td>\n",
       "    </tr>\n",
       "    <tr>\n",
       "      <th>17</th>\n",
       "      <td>00e2b4cd.wav</td>\n",
       "      <td>Bark</td>\n",
       "      <td>1</td>\n",
       "      <td>14.08</td>\n",
       "      <td>audio_train/00e2b4cd.wav</td>\n",
       "      <td>14</td>\n",
       "    </tr>\n",
       "    <tr>\n",
       "      <th>18</th>\n",
       "      <td>00f88dc5.wav</td>\n",
       "      <td>Glockenspiel</td>\n",
       "      <td>1</td>\n",
       "      <td>8.00</td>\n",
       "      <td>audio_train/00f88dc5.wav</td>\n",
       "      <td>2</td>\n",
       "    </tr>\n",
       "    <tr>\n",
       "      <th>19</th>\n",
       "      <td>00fbb28b.wav</td>\n",
       "      <td>Chime</td>\n",
       "      <td>0</td>\n",
       "      <td>17.50</td>\n",
       "      <td>audio_train/00fbb28b.wav</td>\n",
       "      <td>15</td>\n",
       "    </tr>\n",
       "  </tbody>\n",
       "</table>\n",
       "</div>"
      ],
      "text/plain": [
       "           fname              label  manually_verified  Duration  \\\n",
       "0   00044347.wav             Hi-hat                  0     14.00   \n",
       "1   001ca53d.wav          Saxophone                  1     10.32   \n",
       "2   0033e230.wav       Glockenspiel                  1      8.00   \n",
       "3   00353774.wav              Cello                  1      4.52   \n",
       "4   003b91e8.wav              Cello                  0     13.28   \n",
       "5   004ad66f.wav           Clarinet                  0      7.00   \n",
       "6   0063ab88.wav  Computer_keyboard                  0     29.64   \n",
       "7   0075d39c.wav      Keys_jangling                  0     20.64   \n",
       "8   0079d310.wav            Writing                  0      4.06   \n",
       "9   0091fc7f.wav              Cello                  1      5.70   \n",
       "10  00ad7068.wav           Laughter                  0      4.34   \n",
       "11  00c5808a.wav            Tearing                  0     15.52   \n",
       "12  00cb787c.wav              Flute                  1      7.10   \n",
       "13  00d1fe46.wav              Cough                  0      4.48   \n",
       "14  00d3bba3.wav          Telephone                  1      9.74   \n",
       "15  00d40fa2.wav         Snare_drum                  0      3.18   \n",
       "16  00d9fa61.wav              Flute                  0      5.00   \n",
       "17  00e2b4cd.wav               Bark                  1     14.08   \n",
       "18  00f88dc5.wav       Glockenspiel                  1      8.00   \n",
       "19  00fbb28b.wav              Chime                  0     17.50   \n",
       "\n",
       "                        path  value  \n",
       "0   audio_train/00044347.wav      0  \n",
       "1   audio_train/001ca53d.wav      1  \n",
       "2   audio_train/0033e230.wav      2  \n",
       "3   audio_train/00353774.wav      3  \n",
       "4   audio_train/003b91e8.wav      3  \n",
       "5   audio_train/004ad66f.wav      4  \n",
       "6   audio_train/0063ab88.wav      5  \n",
       "7   audio_train/0075d39c.wav      6  \n",
       "8   audio_train/0079d310.wav      7  \n",
       "9   audio_train/0091fc7f.wav      3  \n",
       "10  audio_train/00ad7068.wav      8  \n",
       "11  audio_train/00c5808a.wav      9  \n",
       "12  audio_train/00cb787c.wav     10  \n",
       "13  audio_train/00d1fe46.wav     11  \n",
       "14  audio_train/00d3bba3.wav     12  \n",
       "15  audio_train/00d40fa2.wav     13  \n",
       "16  audio_train/00d9fa61.wav     10  \n",
       "17  audio_train/00e2b4cd.wav     14  \n",
       "18  audio_train/00f88dc5.wav      2  \n",
       "19  audio_train/00fbb28b.wav     15  "
      ]
     },
     "execution_count": 10,
     "metadata": {},
     "output_type": "execute_result"
    }
   ],
   "source": [
    "valid_data['path'] = 'audio_train/' + valid_data['fname']\n",
    "\n",
    "# Select verified audio\n",
    "#valid_data = valid_data.loc[valid_data['manually_verified'] == 1]\n",
    "\n",
    "# Add numerical values\n",
    "valid_data['value'] = pd.factorize(valid_data.label)[0]\n",
    "\n",
    "valid_data.head(20)"
   ]
  },
  {
   "cell_type": "code",
   "execution_count": 11,
   "metadata": {},
   "outputs": [
    {
     "data": {
      "text/plain": [
       "(5580, 6)"
      ]
     },
     "execution_count": 11,
     "metadata": {},
     "output_type": "execute_result"
    }
   ],
   "source": [
    "valid_data.shape"
   ]
  },
  {
   "cell_type": "code",
   "execution_count": 12,
   "metadata": {},
   "outputs": [],
   "source": [
    "#new = valid_data.head(20)"
   ]
  },
  {
   "cell_type": "code",
   "execution_count": 13,
   "metadata": {},
   "outputs": [],
   "source": [
    "D = [] # Dataset\n",
    "\n",
    "for row in valid_data.itertuples():\n",
    "    y, sr = librosa.load(row.path, duration= 2.97)  \n",
    "    ps = librosa.feature.melspectrogram(y=y, sr=sr)\n",
    "    if ps.shape != (128, 128): continue\n",
    "    D.append( (ps, row.value) )"
   ]
  },
  {
   "cell_type": "code",
   "execution_count": 14,
   "metadata": {},
   "outputs": [
    {
     "name": "stdout",
     "output_type": "stream",
     "text": [
      "Number of samples:  5580\n"
     ]
    }
   ],
   "source": [
    "print(\"Number of samples: \", len(D))"
   ]
  },
  {
   "cell_type": "markdown",
   "metadata": {},
   "source": [
    "# Split Dataset * STRATIFY"
   ]
  },
  {
   "cell_type": "code",
   "execution_count": 15,
   "metadata": {},
   "outputs": [
    {
     "data": {
      "text/plain": [
       "41"
      ]
     },
     "execution_count": 15,
     "metadata": {},
     "output_type": "execute_result"
    }
   ],
   "source": [
    "valid_data['label'].nunique()"
   ]
  },
  {
   "cell_type": "code",
   "execution_count": 19,
   "metadata": {},
   "outputs": [],
   "source": [
    "dataset = D\n",
    "random.shuffle(dataset)\n",
    "\n",
    "# STRATIFY\n",
    "train = dataset[:4464]\n",
    "test = dataset[4464:]\n",
    "\n",
    "X_train, y_train = zip(*train)\n",
    "X_test, y_test = zip(*test)\n",
    "\n",
    "# Reshape for CNN input\n",
    "X_train = np.array([x.reshape( (128, 128, 1) ) for x in X_train])\n",
    "X_test = np.array([x.reshape( (128, 128, 1) ) for x in X_test])\n",
    "\n",
    "# One-Hot encoding for classes\n",
    "y_train = np.array(keras.utils.to_categorical(y_train, 41))\n",
    "y_test = np.array(keras.utils.to_categorical(y_test, 41))"
   ]
  },
  {
   "cell_type": "code",
   "execution_count": 20,
   "metadata": {},
   "outputs": [],
   "source": [
    "model = Sequential()\n",
    "input_shape=(128, 128, 1)\n",
    "\n",
    "model.add(Conv2D(24, (5, 5), strides=(1, 1), input_shape=input_shape))\n",
    "model.add(MaxPooling2D((4, 2), strides=(4, 2)))\n",
    "model.add(Activation('relu'))\n",
    "\n",
    "model.add(Conv2D(48, (5, 5), padding=\"valid\"))\n",
    "model.add(MaxPooling2D((4, 2), strides=(4, 2)))\n",
    "model.add(Activation('relu'))\n",
    "\n",
    "model.add(Conv2D(48, (5, 5), padding=\"valid\"))\n",
    "model.add(Activation('relu'))\n",
    "\n",
    "model.add(Flatten())\n",
    "model.add(Dropout(rate=0.5))\n",
    "\n",
    "model.add(Dense(64))\n",
    "model.add(Activation('relu'))\n",
    "model.add(Dropout(rate=0.5))\n",
    "\n",
    "#model.add(Dense(10))\n",
    "model.add(Dense(41))\n",
    "model.add(Activation('softmax'))"
   ]
  },
  {
   "cell_type": "code",
   "execution_count": 21,
   "metadata": {},
   "outputs": [
    {
     "name": "stdout",
     "output_type": "stream",
     "text": [
      "Train on 4464 samples, validate on 1116 samples\n",
      "Epoch 1/12\n",
      "4464/4464 [==============================] - 29s 7ms/step - loss: 5.9510 - accuracy: 0.0372 - val_loss: 3.7034 - val_accuracy: 0.0699\n",
      "Epoch 2/12\n",
      "4464/4464 [==============================] - 30s 7ms/step - loss: 3.7422 - accuracy: 0.0589 - val_loss: 3.6901 - val_accuracy: 0.0591\n",
      "Epoch 3/12\n",
      "4464/4464 [==============================] - 29s 6ms/step - loss: 3.6970 - accuracy: 0.0576 - val_loss: 3.6749 - val_accuracy: 0.0609\n",
      "Epoch 4/12\n",
      "4464/4464 [==============================] - 29s 7ms/step - loss: 3.6777 - accuracy: 0.0607 - val_loss: 3.6527 - val_accuracy: 0.0663\n",
      "Epoch 5/12\n",
      "4464/4464 [==============================] - 30s 7ms/step - loss: 3.6527 - accuracy: 0.0571 - val_loss: 3.6161 - val_accuracy: 0.0950\n",
      "Epoch 6/12\n",
      "4464/4464 [==============================] - 31s 7ms/step - loss: 3.6364 - accuracy: 0.0663 - val_loss: 3.6490 - val_accuracy: 0.0771\n",
      "Epoch 7/12\n",
      "4464/4464 [==============================] - 31s 7ms/step - loss: 3.6651 - accuracy: 0.0627 - val_loss: 3.6079 - val_accuracy: 0.0699\n",
      "Epoch 8/12\n",
      "4464/4464 [==============================] - 31s 7ms/step - loss: 3.6038 - accuracy: 0.0647 - val_loss: 3.5383 - val_accuracy: 0.0797\n",
      "Epoch 9/12\n",
      "4464/4464 [==============================] - 31s 7ms/step - loss: 3.5691 - accuracy: 0.0786 - val_loss: 3.5188 - val_accuracy: 0.1013\n",
      "Epoch 10/12\n",
      "4464/4464 [==============================] - 31s 7ms/step - loss: 3.5421 - accuracy: 0.0885 - val_loss: 3.4883 - val_accuracy: 0.1138\n",
      "Epoch 11/12\n",
      "4464/4464 [==============================] - 31s 7ms/step - loss: 3.4924 - accuracy: 0.0885 - val_loss: 3.4528 - val_accuracy: 0.1201\n",
      "Epoch 12/12\n",
      "4464/4464 [==============================] - 30s 7ms/step - loss: 3.4564 - accuracy: 0.0990 - val_loss: 3.3704 - val_accuracy: 0.1452\n",
      "1116/1116 [==============================] - 2s 2ms/step\n",
      "Test loss: 3.370442203296128\n",
      "Test accuracy: 0.14516128599643707\n"
     ]
    }
   ],
   "source": [
    "model.compile(\n",
    "    optimizer=\"Adam\",\n",
    "    loss=\"categorical_crossentropy\",\n",
    "    metrics=['accuracy'])\n",
    "\n",
    "model.fit(\n",
    "    x=X_train, \n",
    "    y=y_train,\n",
    "    epochs=12,\n",
    "    batch_size=128,\n",
    "    validation_data= (X_test, y_test))\n",
    "\n",
    "score = model.evaluate(\n",
    "    x=X_test,\n",
    "    y=y_test)\n",
    "\n",
    "print('Test loss:', score[0])\n",
    "print('Test accuracy:', score[1])"
   ]
  },
  {
   "cell_type": "code",
   "execution_count": null,
   "metadata": {},
   "outputs": [],
   "source": []
  },
  {
   "cell_type": "code",
   "execution_count": null,
   "metadata": {},
   "outputs": [],
   "source": []
  }
 ],
 "metadata": {
  "kernelspec": {
   "display_name": "Python 3",
   "language": "python",
   "name": "python3"
  },
  "language_info": {
   "codemirror_mode": {
    "name": "ipython",
    "version": 3
   },
   "file_extension": ".py",
   "mimetype": "text/x-python",
   "name": "python",
   "nbconvert_exporter": "python",
   "pygments_lexer": "ipython3",
   "version": "3.7.3"
  }
 },
 "nbformat": 4,
 "nbformat_minor": 2
}
