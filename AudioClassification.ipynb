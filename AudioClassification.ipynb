{
 "cells": [
  {
   "cell_type": "code",
   "execution_count": 1,
   "metadata": {},
   "outputs": [
    {
     "name": "stderr",
     "output_type": "stream",
     "text": [
      "Using TensorFlow backend.\n"
     ]
    }
   ],
   "source": [
    "import keras\n",
    "from keras.layers import Activation, Dense, Dropout, Conv2D, \\\n",
    "                         Flatten, MaxPooling2D\n",
    "from keras.models import Sequential\n",
    "import librosa\n",
    "import librosa.display\n",
    "import numpy as np\n",
    "import pandas as pd\n",
    "import random\n",
    "\n",
    "import warnings\n",
    "warnings.filterwarnings('ignore')"
   ]
  },
  {
   "cell_type": "markdown",
   "metadata": {},
   "source": [
    "# Import Data"
   ]
  },
  {
   "cell_type": "code",
   "execution_count": 46,
   "metadata": {},
   "outputs": [
    {
     "data": {
      "text/html": [
       "<div>\n",
       "<style scoped>\n",
       "    .dataframe tbody tr th:only-of-type {\n",
       "        vertical-align: middle;\n",
       "    }\n",
       "\n",
       "    .dataframe tbody tr th {\n",
       "        vertical-align: top;\n",
       "    }\n",
       "\n",
       "    .dataframe thead th {\n",
       "        text-align: right;\n",
       "    }\n",
       "</style>\n",
       "<table border=\"1\" class=\"dataframe\">\n",
       "  <thead>\n",
       "    <tr style=\"text-align: right;\">\n",
       "      <th></th>\n",
       "      <th>fname</th>\n",
       "      <th>label</th>\n",
       "      <th>manually_verified</th>\n",
       "      <th>Duration</th>\n",
       "    </tr>\n",
       "  </thead>\n",
       "  <tbody>\n",
       "    <tr>\n",
       "      <th>0</th>\n",
       "      <td>00044347.wav</td>\n",
       "      <td>Hi-hat</td>\n",
       "      <td>0</td>\n",
       "      <td>14.00</td>\n",
       "    </tr>\n",
       "    <tr>\n",
       "      <th>1</th>\n",
       "      <td>001ca53d.wav</td>\n",
       "      <td>Saxophone</td>\n",
       "      <td>1</td>\n",
       "      <td>10.32</td>\n",
       "    </tr>\n",
       "    <tr>\n",
       "      <th>2</th>\n",
       "      <td>0033e230.wav</td>\n",
       "      <td>Glockenspiel</td>\n",
       "      <td>1</td>\n",
       "      <td>8.00</td>\n",
       "    </tr>\n",
       "    <tr>\n",
       "      <th>3</th>\n",
       "      <td>00353774.wav</td>\n",
       "      <td>Cello</td>\n",
       "      <td>1</td>\n",
       "      <td>4.52</td>\n",
       "    </tr>\n",
       "    <tr>\n",
       "      <th>4</th>\n",
       "      <td>003b91e8.wav</td>\n",
       "      <td>Cello</td>\n",
       "      <td>0</td>\n",
       "      <td>13.28</td>\n",
       "    </tr>\n",
       "  </tbody>\n",
       "</table>\n",
       "</div>"
      ],
      "text/plain": [
       "          fname         label  manually_verified  Duration\n",
       "0  00044347.wav        Hi-hat                  0     14.00\n",
       "1  001ca53d.wav     Saxophone                  1     10.32\n",
       "2  0033e230.wav  Glockenspiel                  1      8.00\n",
       "3  00353774.wav         Cello                  1      4.52\n",
       "4  003b91e8.wav         Cello                  0     13.28"
      ]
     },
     "execution_count": 46,
     "metadata": {},
     "output_type": "execute_result"
    }
   ],
   "source": [
    "valid_data = pd.read_csv('valid_data.csv')\n",
    "valid_data.head(5)"
   ]
  },
  {
   "cell_type": "code",
   "execution_count": 47,
   "metadata": {},
   "outputs": [
    {
     "data": {
      "text/plain": [
       "(5580, 4)"
      ]
     },
     "execution_count": 47,
     "metadata": {},
     "output_type": "execute_result"
    }
   ],
   "source": [
    "valid_data.shape"
   ]
  },
  {
   "cell_type": "code",
   "execution_count": 48,
   "metadata": {},
   "outputs": [
    {
     "data": {
      "text/plain": [
       "<matplotlib.axes._subplots.AxesSubplot at 0x1449e3320>"
      ]
     },
     "execution_count": 48,
     "metadata": {},
     "output_type": "execute_result"
    },
    {
     "data": {
      "image/png": "[encoded data removed]",
      "text/plain": [
       "<Figure size 432x288 with 1 Axes>"
      ]
     },
     "metadata": {
      "needs_background": "light"
     },
     "output_type": "display_data"
    }
   ],
   "source": [
    "valid_data['Duration'].hist(bins = 27)"
   ]
  },
  {
   "cell_type": "markdown",
   "metadata": {},
   "source": [
    "# Change duration for spectrogram"
   ]
  },
  {
   "cell_type": "code",
   "execution_count": 49,
   "metadata": {},
   "outputs": [
    {
     "data": {
      "text/plain": [
       "(128, 431)"
      ]
     },
     "execution_count": 49,
     "metadata": {},
     "output_type": "execute_result"
    }
   ],
   "source": [
    "# Example of a Hi Hat spectrogram\n",
    "y, sr = librosa.load('audio_train/00044347.wav', duration=10.00)\n",
    "ps = librosa.feature.melspectrogram(y=y, sr=sr)\n",
    "ps.shape"
   ]
  },
  {
   "cell_type": "code",
   "execution_count": 50,
   "metadata": {
    "scrolled": true
   },
   "outputs": [
    {
     "data": {
      "text/plain": [
       "<matplotlib.axes._subplots.AxesSubplot at 0x14a56a4a8>"
      ]
     },
     "execution_count": 50,
     "metadata": {},
     "output_type": "execute_result"
    },
    {
     "data": {
      "image/png": "[encoded data removed]",
      "text/plain": [
       "<Figure size 432x288 with 1 Axes>"
      ]
     },
     "metadata": {
      "needs_background": "light"
     },
     "output_type": "display_data"
    }
   ],
   "source": [
    "librosa.display.specshow(ps, y_axis='mel', x_axis='time')"
   ]
  },
  {
   "cell_type": "code",
   "execution_count": 72,
   "metadata": {},
   "outputs": [
    {
     "data": {
      "text/plain": [
       "(128, 216)"
      ]
     },
     "execution_count": 72,
     "metadata": {},
     "output_type": "execute_result"
    }
   ],
   "source": [
    "# Example of a Hi Hat spectrogram\n",
    "y, sr = librosa.load('audio_train/001ca53d.wav', duration=5.00)\n",
    "ps = librosa.feature.melspectrogram(y=y, sr=sr)\n",
    "ps.shape"
   ]
  },
  {
   "cell_type": "code",
   "execution_count": 54,
   "metadata": {},
   "outputs": [
    {
     "data": {
      "text/plain": [
       "<matplotlib.axes._subplots.AxesSubplot at 0x14afa7898>"
      ]
     },
     "execution_count": 54,
     "metadata": {},
     "output_type": "execute_result"
    },
    {
     "data": {
      "image/png": "[encoded data removed]",
      "text/plain": [
       "<Figure size 432x288 with 1 Axes>"
      ]
     },
     "metadata": {
      "needs_background": "light"
     },
     "output_type": "display_data"
    }
   ],
   "source": [
    "librosa.display.specshow(ps, y_axis='mel', x_axis='time')"
   ]
  },
  {
   "cell_type": "markdown",
   "metadata": {},
   "source": [
    "# Create spectrograms for all data \n",
    "\n",
    "# ADJUST DURATION + SHAPE + VERIFIED"
   ]
  },
  {
   "cell_type": "code",
   "execution_count": 68,
   "metadata": {},
   "outputs": [
    {
     "data": {
      "text/html": [
       "<div>\n",
       "<style scoped>\n",
       "    .dataframe tbody tr th:only-of-type {\n",
       "        vertical-align: middle;\n",
       "    }\n",
       "\n",
       "    .dataframe tbody tr th {\n",
       "        vertical-align: top;\n",
       "    }\n",
       "\n",
       "    .dataframe thead th {\n",
       "        text-align: right;\n",
       "    }\n",
       "</style>\n",
       "<table border=\"1\" class=\"dataframe\">\n",
       "  <thead>\n",
       "    <tr style=\"text-align: right;\">\n",
       "      <th></th>\n",
       "      <th>fname</th>\n",
       "      <th>label</th>\n",
       "      <th>manually_verified</th>\n",
       "      <th>Duration</th>\n",
       "      <th>path</th>\n",
       "    </tr>\n",
       "  </thead>\n",
       "  <tbody>\n",
       "    <tr>\n",
       "      <th>0</th>\n",
       "      <td>00044347.wav</td>\n",
       "      <td>Hi-hat</td>\n",
       "      <td>0</td>\n",
       "      <td>14.00</td>\n",
       "      <td>audio_train/00044347.wav</td>\n",
       "    </tr>\n",
       "    <tr>\n",
       "      <th>1</th>\n",
       "      <td>001ca53d.wav</td>\n",
       "      <td>Saxophone</td>\n",
       "      <td>1</td>\n",
       "      <td>10.32</td>\n",
       "      <td>audio_train/001ca53d.wav</td>\n",
       "    </tr>\n",
       "    <tr>\n",
       "      <th>2</th>\n",
       "      <td>0033e230.wav</td>\n",
       "      <td>Glockenspiel</td>\n",
       "      <td>1</td>\n",
       "      <td>8.00</td>\n",
       "      <td>audio_train/0033e230.wav</td>\n",
       "    </tr>\n",
       "    <tr>\n",
       "      <th>3</th>\n",
       "      <td>00353774.wav</td>\n",
       "      <td>Cello</td>\n",
       "      <td>1</td>\n",
       "      <td>4.52</td>\n",
       "      <td>audio_train/00353774.wav</td>\n",
       "    </tr>\n",
       "    <tr>\n",
       "      <th>4</th>\n",
       "      <td>003b91e8.wav</td>\n",
       "      <td>Cello</td>\n",
       "      <td>0</td>\n",
       "      <td>13.28</td>\n",
       "      <td>audio_train/003b91e8.wav</td>\n",
       "    </tr>\n",
       "    <tr>\n",
       "      <th>5</th>\n",
       "      <td>004ad66f.wav</td>\n",
       "      <td>Clarinet</td>\n",
       "      <td>0</td>\n",
       "      <td>7.00</td>\n",
       "      <td>audio_train/004ad66f.wav</td>\n",
       "    </tr>\n",
       "    <tr>\n",
       "      <th>6</th>\n",
       "      <td>0063ab88.wav</td>\n",
       "      <td>Computer_keyboard</td>\n",
       "      <td>0</td>\n",
       "      <td>29.64</td>\n",
       "      <td>audio_train/0063ab88.wav</td>\n",
       "    </tr>\n",
       "    <tr>\n",
       "      <th>7</th>\n",
       "      <td>0075d39c.wav</td>\n",
       "      <td>Keys_jangling</td>\n",
       "      <td>0</td>\n",
       "      <td>20.64</td>\n",
       "      <td>audio_train/0075d39c.wav</td>\n",
       "    </tr>\n",
       "    <tr>\n",
       "      <th>8</th>\n",
       "      <td>0079d310.wav</td>\n",
       "      <td>Writing</td>\n",
       "      <td>0</td>\n",
       "      <td>4.06</td>\n",
       "      <td>audio_train/0079d310.wav</td>\n",
       "    </tr>\n",
       "    <tr>\n",
       "      <th>9</th>\n",
       "      <td>0091fc7f.wav</td>\n",
       "      <td>Cello</td>\n",
       "      <td>1</td>\n",
       "      <td>5.70</td>\n",
       "      <td>audio_train/0091fc7f.wav</td>\n",
       "    </tr>\n",
       "    <tr>\n",
       "      <th>10</th>\n",
       "      <td>00ad7068.wav</td>\n",
       "      <td>Laughter</td>\n",
       "      <td>0</td>\n",
       "      <td>4.34</td>\n",
       "      <td>audio_train/00ad7068.wav</td>\n",
       "    </tr>\n",
       "    <tr>\n",
       "      <th>11</th>\n",
       "      <td>00c5808a.wav</td>\n",
       "      <td>Tearing</td>\n",
       "      <td>0</td>\n",
       "      <td>15.52</td>\n",
       "      <td>audio_train/00c5808a.wav</td>\n",
       "    </tr>\n",
       "    <tr>\n",
       "      <th>12</th>\n",
       "      <td>00cb787c.wav</td>\n",
       "      <td>Flute</td>\n",
       "      <td>1</td>\n",
       "      <td>7.10</td>\n",
       "      <td>audio_train/00cb787c.wav</td>\n",
       "    </tr>\n",
       "    <tr>\n",
       "      <th>13</th>\n",
       "      <td>00d1fe46.wav</td>\n",
       "      <td>Cough</td>\n",
       "      <td>0</td>\n",
       "      <td>4.48</td>\n",
       "      <td>audio_train/00d1fe46.wav</td>\n",
       "    </tr>\n",
       "    <tr>\n",
       "      <th>14</th>\n",
       "      <td>00d3bba3.wav</td>\n",
       "      <td>Telephone</td>\n",
       "      <td>1</td>\n",
       "      <td>9.74</td>\n",
       "      <td>audio_train/00d3bba3.wav</td>\n",
       "    </tr>\n",
       "    <tr>\n",
       "      <th>15</th>\n",
       "      <td>00d40fa2.wav</td>\n",
       "      <td>Snare_drum</td>\n",
       "      <td>0</td>\n",
       "      <td>3.18</td>\n",
       "      <td>audio_train/00d40fa2.wav</td>\n",
       "    </tr>\n",
       "    <tr>\n",
       "      <th>16</th>\n",
       "      <td>00d9fa61.wav</td>\n",
       "      <td>Flute</td>\n",
       "      <td>0</td>\n",
       "      <td>5.00</td>\n",
       "      <td>audio_train/00d9fa61.wav</td>\n",
       "    </tr>\n",
       "    <tr>\n",
       "      <th>17</th>\n",
       "      <td>00e2b4cd.wav</td>\n",
       "      <td>Bark</td>\n",
       "      <td>1</td>\n",
       "      <td>14.08</td>\n",
       "      <td>audio_train/00e2b4cd.wav</td>\n",
       "    </tr>\n",
       "    <tr>\n",
       "      <th>18</th>\n",
       "      <td>00f88dc5.wav</td>\n",
       "      <td>Glockenspiel</td>\n",
       "      <td>1</td>\n",
       "      <td>8.00</td>\n",
       "      <td>audio_train/00f88dc5.wav</td>\n",
       "    </tr>\n",
       "    <tr>\n",
       "      <th>19</th>\n",
       "      <td>00fbb28b.wav</td>\n",
       "      <td>Chime</td>\n",
       "      <td>0</td>\n",
       "      <td>17.50</td>\n",
       "      <td>audio_train/00fbb28b.wav</td>\n",
       "    </tr>\n",
       "  </tbody>\n",
       "</table>\n",
       "</div>"
      ],
      "text/plain": [
       "           fname              label  manually_verified  Duration  \\\n",
       "0   00044347.wav             Hi-hat                  0     14.00   \n",
       "1   001ca53d.wav          Saxophone                  1     10.32   \n",
       "2   0033e230.wav       Glockenspiel                  1      8.00   \n",
       "3   00353774.wav              Cello                  1      4.52   \n",
       "4   003b91e8.wav              Cello                  0     13.28   \n",
       "5   004ad66f.wav           Clarinet                  0      7.00   \n",
       "6   0063ab88.wav  Computer_keyboard                  0     29.64   \n",
       "7   0075d39c.wav      Keys_jangling                  0     20.64   \n",
       "8   0079d310.wav            Writing                  0      4.06   \n",
       "9   0091fc7f.wav              Cello                  1      5.70   \n",
       "10  00ad7068.wav           Laughter                  0      4.34   \n",
       "11  00c5808a.wav            Tearing                  0     15.52   \n",
       "12  00cb787c.wav              Flute                  1      7.10   \n",
       "13  00d1fe46.wav              Cough                  0      4.48   \n",
       "14  00d3bba3.wav          Telephone                  1      9.74   \n",
       "15  00d40fa2.wav         Snare_drum                  0      3.18   \n",
       "16  00d9fa61.wav              Flute                  0      5.00   \n",
       "17  00e2b4cd.wav               Bark                  1     14.08   \n",
       "18  00f88dc5.wav       Glockenspiel                  1      8.00   \n",
       "19  00fbb28b.wav              Chime                  0     17.50   \n",
       "\n",
       "                        path  \n",
       "0   audio_train/00044347.wav  \n",
       "1   audio_train/001ca53d.wav  \n",
       "2   audio_train/0033e230.wav  \n",
       "3   audio_train/00353774.wav  \n",
       "4   audio_train/003b91e8.wav  \n",
       "5   audio_train/004ad66f.wav  \n",
       "6   audio_train/0063ab88.wav  \n",
       "7   audio_train/0075d39c.wav  \n",
       "8   audio_train/0079d310.wav  \n",
       "9   audio_train/0091fc7f.wav  \n",
       "10  audio_train/00ad7068.wav  \n",
       "11  audio_train/00c5808a.wav  \n",
       "12  audio_train/00cb787c.wav  \n",
       "13  audio_train/00d1fe46.wav  \n",
       "14  audio_train/00d3bba3.wav  \n",
       "15  audio_train/00d40fa2.wav  \n",
       "16  audio_train/00d9fa61.wav  \n",
       "17  audio_train/00e2b4cd.wav  \n",
       "18  audio_train/00f88dc5.wav  \n",
       "19  audio_train/00fbb28b.wav  "
      ]
     },
     "execution_count": 68,
     "metadata": {},
     "output_type": "execute_result"
    }
   ],
   "source": [
    "valid_data['path'] = 'audio_train/' + valid_data['fname']\n",
    "valid_data.head(20)"
   ]
  },
  {
   "cell_type": "code",
   "execution_count": 69,
   "metadata": {},
   "outputs": [],
   "source": [
    "new = valid_data.head(20)"
   ]
  },
  {
   "cell_type": "code",
   "execution_count": 73,
   "metadata": {},
   "outputs": [],
   "source": [
    "D = [] # Dataset\n",
    "\n",
    "for row in new.itertuples():\n",
    "    y, sr = librosa.load(row.path, duration= 5.00)  \n",
    "    ps = librosa.feature.melspectrogram(y=y, sr=sr)\n",
    "    if ps.shape != (128, 216): continue\n",
    "    D.append( (ps, row.label) )"
   ]
  },
  {
   "cell_type": "code",
   "execution_count": 74,
   "metadata": {},
   "outputs": [
    {
     "name": "stdout",
     "output_type": "stream",
     "text": [
      "Number of samples:  15\n"
     ]
    }
   ],
   "source": [
    "print(\"Number of samples: \", len(D))"
   ]
  },
  {
   "cell_type": "code",
   "execution_count": null,
   "metadata": {},
   "outputs": [],
   "source": []
  },
  {
   "cell_type": "code",
   "execution_count": null,
   "metadata": {},
   "outputs": [],
   "source": []
  },
  {
   "cell_type": "code",
   "execution_count": null,
   "metadata": {},
   "outputs": [],
   "source": []
  },
  {
   "cell_type": "code",
   "execution_count": null,
   "metadata": {},
   "outputs": [],
   "source": []
  }
 ],
 "metadata": {
  "kernelspec": {
   "display_name": "Python 3",
   "language": "python",
   "name": "python3"
  },
  "language_info": {
   "codemirror_mode": {
    "name": "ipython",
    "version": 3
   },
   "file_extension": ".py",
   "mimetype": "text/x-python",
   "name": "python",
   "nbconvert_exporter": "python",
   "pygments_lexer": "ipython3",
   "version": "3.7.3"
  }
 },
 "nbformat": 4,
 "nbformat_minor": 2
}
